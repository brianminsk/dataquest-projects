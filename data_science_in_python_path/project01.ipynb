{
 "cells": [
  {
   "cell_type": "markdown",
   "id": "c187853c",
   "metadata": {},
   "source": [
    "# Profitable App Profiles for the Apple App Store and Google Play Markets\n",
    "## About this Project\n",
    "**Scenario**: I am working as a data analyst for a company that builds English-language Android and iOS mobile apps and makes them available on Google Play and the Apple App Store. The apps they build are free to download and install, thus their main source of revenue consists of in-app ads. This means their revenue for an app is largely influenced by the number of users who use the app — the more users that see and engage with the ads, the better. \n",
    "## Goal\n",
    "The goal for this project is to analyze data to help the company understand what type of apps are likely to attract more users.\n",
    "## Validation Strategy\n",
    "To minimize risks and overhead, the validation strategy for an app idea is comprised of three steps:\n",
    "\n",
    "1. Build a minimal Android version of the app and add it to Google Play.\n",
    "2. Develop the app further if it has a good response from users.\n",
    "3. Build an iOS version of the app and add it to the Apple App Store if the Android app is profitable after six months.\n",
    "\n",
    "Because the end goal is to add the app on both Google Play and the Apple App Store, app profiles that are successful on both markets need to be found. For instance, a profile that works well for both markets might be a productivity app that makes use of gamification.\n",
    "## Overview of Analysis\n",
    "1. Convert data to an analyzable format\n",
    "2. Explore the data to see what is in it.\n",
    "3. Clean up the data, if necessary.\n",
    "4. Determine how many apps are in each genre/category.\n",
    "5. Determine the relative number of users in each genre/category.\n",
    "6. Determine the most desirable genres/categories, i.e. which genres/categories are most like to attract the greatest number of users.\n",
    "7. Determine the most desireable genres/categories in Google Play that also desireable in the Apple App Store.\n",
    "\n",
    "\n",
    "## Datasets\n",
    "1. Data on approximately 10,000 Android apps from Google Play. The data was collected in August 2018. Information on this data, including a link to download the data, is here: https://www.kaggle.com/lava18/google-play-store-apps\n",
    "2. Data on approximately 7,000 iOS apps from the Apple App Store. The data was collected in July 2017. Information on this data, including a link to download the data, is here: https://www.kaggle.com/ramamet4/app-store-apple-data-set-10k-apps\n",
    "\n",
    "## Recommendations\n",
    "The recommendations do not only consider the average number of users per app in a genre but also the number of apps in a genre. If a genre has relatively few apps it is more likely an app in that genre will stand out. The recommendation attempts to find genres that have relatively few apps but also have a relatively high average number of users per app.The recommendations are discussed at the end of this notebook.\n",
    "\n",
    "The recommendations all concern music-related genres. For Google Play the recommended genres are **Music**, **Music & Video**, and **Music & Audio**. For the Apple App Store the recommended genre is **Music**. \n",
    "\n",
    "The recommendations are discussed at the end of this notebook."
   ]
  },
  {
   "cell_type": "markdown",
   "id": "f8f4a5a6",
   "metadata": {},
   "source": [
    "## Open the datasets\n",
    "The following code opens the Google Play and Apple App Store datasets and coverts it to a form which our code can process."
   ]
  },
  {
   "cell_type": "code",
   "execution_count": 45,
   "id": "47517eb3",
   "metadata": {
    "code_folding": []
   },
   "outputs": [],
   "source": [
    "# Open the Apple App Store and Google Play files, read the csv, and convert the data headers and the data to lists.\n",
    "open_google_play_csv_file = open(\"data_sets/googleplaystore/googleplaystore.csv\", encoding=\"utf8\")\n",
    "open_app_store_csv_file = open(\"data_sets/applestore/AppleStore.csv\", encoding=\"utf8\")\n",
    "\n",
    "from csv import reader\n",
    "read_google_play_csv_file = reader(open_google_play_csv_file)\n",
    "read_app_store_csv_file = reader(open_app_store_csv_file)\n",
    "\n",
    "google_play_all = list(read_google_play_csv_file)\n",
    "google_play_data_header = list(google_play_all[0])\n",
    "google_play_data = list(google_play_all[1:])\n",
    "app_store_all = list(read_app_store_csv_file)\n",
    "app_store_data_header = list(app_store_all[0])\n",
    "app_store_data = list(app_store_all[1:])"
   ]
  },
  {
   "cell_type": "markdown",
   "id": "089d327f",
   "metadata": {},
   "source": [
    "The following is a utility function for showing certain rows in in a dataset and the total number of both rows and columns."
   ]
  },
  {
   "cell_type": "code",
   "execution_count": 46,
   "id": "f6724e86",
   "metadata": {
    "code_folding": []
   },
   "outputs": [],
   "source": [
    "def explore_data(dataset, start, end, rows_and_columns=False, show_which_rows=True):\n",
    "    \"\"\"Print a set of records to stdout. \n",
    "    \"\"\"\n",
    "    if show_which_rows:\n",
    "        print(\"Showing rows \" + str(start + 1) + \" to \" + str(end))\n",
    "    dataset_slice = dataset[start:end]    \n",
    "    for row in dataset_slice:\n",
    "        print(row)\n",
    "\n",
    "    if rows_and_columns:\n",
    "        print('Number of rows:', len(dataset))\n",
    "        print('Number of columns:', len(dataset[0]))"
   ]
  },
  {
   "cell_type": "markdown",
   "id": "03646c33",
   "metadata": {},
   "source": [
    "## A Peek at the Data"
   ]
  },
  {
   "cell_type": "markdown",
   "id": "c8399790",
   "metadata": {},
   "source": [
    "### Google Play Store dataset header and first 10 rows of data"
   ]
  },
  {
   "cell_type": "code",
   "execution_count": 47,
   "id": "503c7f4b",
   "metadata": {
    "code_folding": [],
    "scrolled": true
   },
   "outputs": [
    {
     "name": "stdout",
     "output_type": "stream",
     "text": [
      "***HEADER***\n",
      "['App', 'Category', 'Rating', 'Reviews', 'Size', 'Installs', 'Type', 'Price', 'Content Rating', 'Genres', 'Last Updated', 'Current Ver', 'Android Ver']\n",
      "\n",
      "\n",
      "***DATA***\n",
      "Showing rows 1 to 10\n",
      "['Photo Editor & Candy Camera & Grid & ScrapBook', 'ART_AND_DESIGN', '4.1', '159', '19M', '10,000+', 'Free', '0', 'Everyone', 'Art & Design', 'January 7, 2018', '1.0.0', '4.0.3 and up']\n",
      "['Coloring book moana', 'ART_AND_DESIGN', '3.9', '967', '14M', '500,000+', 'Free', '0', 'Everyone', 'Art & Design;Pretend Play', 'January 15, 2018', '2.0.0', '4.0.3 and up']\n",
      "['U Launcher Lite – FREE Live Cool Themes, Hide Apps', 'ART_AND_DESIGN', '4.7', '87510', '8.7M', '5,000,000+', 'Free', '0', 'Everyone', 'Art & Design', 'August 1, 2018', '1.2.4', '4.0.3 and up']\n",
      "['Sketch - Draw & Paint', 'ART_AND_DESIGN', '4.5', '215644', '25M', '50,000,000+', 'Free', '0', 'Teen', 'Art & Design', 'June 8, 2018', 'Varies with device', '4.2 and up']\n",
      "['Pixel Draw - Number Art Coloring Book', 'ART_AND_DESIGN', '4.3', '967', '2.8M', '100,000+', 'Free', '0', 'Everyone', 'Art & Design;Creativity', 'June 20, 2018', '1.1', '4.4 and up']\n",
      "['Paper flowers instructions', 'ART_AND_DESIGN', '4.4', '167', '5.6M', '50,000+', 'Free', '0', 'Everyone', 'Art & Design', 'March 26, 2017', '1.0', '2.3 and up']\n",
      "['Smoke Effect Photo Maker - Smoke Editor', 'ART_AND_DESIGN', '3.8', '178', '19M', '50,000+', 'Free', '0', 'Everyone', 'Art & Design', 'April 26, 2018', '1.1', '4.0.3 and up']\n",
      "['Infinite Painter', 'ART_AND_DESIGN', '4.1', '36815', '29M', '1,000,000+', 'Free', '0', 'Everyone', 'Art & Design', 'June 14, 2018', '6.1.61.1', '4.2 and up']\n",
      "['Garden Coloring Book', 'ART_AND_DESIGN', '4.4', '13791', '33M', '1,000,000+', 'Free', '0', 'Everyone', 'Art & Design', 'September 20, 2017', '2.9.2', '3.0 and up']\n",
      "['Kids Paint Free - Drawing Fun', 'ART_AND_DESIGN', '4.7', '121', '3.1M', '10,000+', 'Free', '0', 'Everyone', 'Art & Design;Creativity', 'July 3, 2018', '2.8', '4.0.3 and up']\n",
      "Number of rows: 10841\n",
      "Number of columns: 13\n"
     ]
    }
   ],
   "source": [
    "# Show a set of Google Play Store data.\n",
    "print(\"***HEADER***\")\n",
    "print(google_play_data_header)\n",
    "print('\\n')\n",
    "print(\"***DATA***\")\n",
    "explore_data(google_play_data, 0, 10, rows_and_columns=True)"
   ]
  },
  {
   "cell_type": "markdown",
   "id": "2f5b7502",
   "metadata": {},
   "source": [
    "### Apple App Store dataset header and first 10 rows of data"
   ]
  },
  {
   "cell_type": "code",
   "execution_count": 48,
   "id": "0c9f0550",
   "metadata": {
    "code_folding": [],
    "scrolled": true
   },
   "outputs": [
    {
     "name": "stdout",
     "output_type": "stream",
     "text": [
      "***HEADER***\n",
      "['', 'id', 'track_name', 'size_bytes', 'currency', 'price', 'rating_count_tot', 'rating_count_ver', 'user_rating', 'user_rating_ver', 'ver', 'cont_rating', 'prime_genre', 'sup_devices.num', 'ipadSc_urls.num', 'lang.num', 'vpp_lic']\n",
      "\n",
      "\n",
      "***DATA***\n",
      "Showing rows 1 to 10\n",
      "['1', '281656475', 'PAC-MAN Premium', '100788224', 'USD', '3.99', '21292', '26', '4', '4.5', '6.3.5', '4+', 'Games', '38', '5', '10', '1']\n",
      "['2', '281796108', 'Evernote - stay organized', '158578688', 'USD', '0', '161065', '26', '4', '3.5', '8.2.2', '4+', 'Productivity', '37', '5', '23', '1']\n",
      "['3', '281940292', 'WeatherBug - Local Weather, Radar, Maps, Alerts', '100524032', 'USD', '0', '188583', '2822', '3.5', '4.5', '5.0.0', '4+', 'Weather', '37', '5', '3', '1']\n",
      "['4', '282614216', 'eBay: Best App to Buy, Sell, Save! Online Shopping', '128512000', 'USD', '0', '262241', '649', '4', '4.5', '5.10.0', '12+', 'Shopping', '37', '5', '9', '1']\n",
      "['5', '282935706', 'Bible', '92774400', 'USD', '0', '985920', '5320', '4.5', '5', '7.5.1', '4+', 'Reference', '37', '5', '45', '1']\n",
      "['6', '283619399', 'Shanghai Mahjong', '10485713', 'USD', '0.99', '8253', '5516', '4', '4', '1.8', '4+', 'Games', '47', '5', '1', '1']\n",
      "['7', '283646709', 'PayPal - Send and request money safely', '227795968', 'USD', '0', '119487', '879', '4', '4.5', '6.12.0', '4+', 'Finance', '37', '0', '19', '1']\n",
      "['8', '284035177', 'Pandora - Music & Radio', '130242560', 'USD', '0', '1126879', '3594', '4', '4.5', '8.4.1', '12+', 'Music', '37', '4', '1', '1']\n",
      "['9', '284666222', 'PCalc - The Best Calculator', '49250304', 'USD', '9.99', '1117', '4', '4.5', '5', '3.6.6', '4+', 'Utilities', '37', '5', '1', '1']\n",
      "['10', '284736660', 'Ms. PAC-MAN', '70023168', 'USD', '3.99', '7885', '40', '4', '4', '4.0.4', '4+', 'Games', '38', '0', '10', '1']\n",
      "Number of rows: 7197\n",
      "Number of columns: 17\n"
     ]
    }
   ],
   "source": [
    "# Show a set of Apple App Store data.\n",
    "print(\"***HEADER***\")\n",
    "print(app_store_data_header)\n",
    "print('\\n')\n",
    "print(\"***DATA***\")\n",
    "explore_data(app_store_data, 0, 10, rows_and_columns=True)"
   ]
  },
  {
   "cell_type": "markdown",
   "id": "effb6a0e",
   "metadata": {},
   "source": [
    "## Data Cleaning ##\n",
    "### Error in Google Play data ###\n",
    "In the discussion of this data at https://www.kaggle.com/lava18/google-play-store-apps/discussion it is noted that the row with index 10472 has an error: the entry for the 'Category' column is missing and, because of this, the following columns in that row are shifted one column to the left.\n",
    "\n",
    "Since it is bad data we remove that row from the dataset."
   ]
  },
  {
   "cell_type": "code",
   "execution_count": 49,
   "id": "761daa7c",
   "metadata": {
    "code_folding": []
   },
   "outputs": [
    {
     "name": "stdout",
     "output_type": "stream",
     "text": [
      "Row 10472: \n",
      "['Life Made WI-Fi Touchscreen Photo Frame', '1.9', '19', '3.0M', '1,000+', 'Free', '0', 'Everyone', '', 'February 11, 2018', '1.0.19', '4.0 and up']\n",
      "Length of header: 13\n",
      "Length of row 10472: 12\n",
      "\n",
      "Deleted row:\n",
      " ['Life Made WI-Fi Touchscreen Photo Frame', '1.9', '19', '3.0M', '1,000+', 'Free', '0', 'Everyone', '', 'February 11, 2018', '1.0.19', '4.0 and up']\n"
     ]
    }
   ],
   "source": [
    "# Show the row with an error and delete it from the Google Play Store data list.\n",
    "print(\"Row 10472: \")\n",
    "print(google_play_data[10472])\n",
    "print(\"Length of header:\", len(google_play_data_header))\n",
    "print(\"Length of row 10472:\", len(google_play_data[10472]))\n",
    "\n",
    "print(\"\\nDeleted row:\\n\", google_play_data.pop(10472))"
   ]
  },
  {
   "cell_type": "markdown",
   "id": "b0424760",
   "metadata": {},
   "source": [
    "### Duplicate rows in Google Play data ###\n",
    "The discussion of this data at https://www.kaggle.com/lava18/google-play-store-apps/discussion also indicates there are duplicate rows, i.e. rows that have the same app name. \n",
    "\n",
    "The following finds the number of apps *without* duplicate names and the number of apps *with* duplicate names. It also shows the first 10 apps that are duplicates and the associated rows for each of the 10 duplicated apps."
   ]
  },
  {
   "cell_type": "code",
   "execution_count": 50,
   "id": "3b896787",
   "metadata": {
    "code_folding": [],
    "scrolled": true
   },
   "outputs": [
    {
     "name": "stdout",
     "output_type": "stream",
     "text": [
      "Number of unique app names:  8861\n",
      "Number of duplicate app names:  798\n",
      "Total number of apps:  9659\n",
      "\n",
      "\n",
      "Duplicate app:  Quick PDF Scanner + OCR FREE\n",
      "Num duplicates:  3\n",
      "['Quick PDF Scanner + OCR FREE', 'BUSINESS', '4.2', '80805', 'Varies with device', '5,000,000+', 'Free', '0', 'Everyone', 'Business', 'February 26, 2018', 'Varies with device', '4.0.3 and up']\n",
      "['Quick PDF Scanner + OCR FREE', 'BUSINESS', '4.2', '80805', 'Varies with device', '5,000,000+', 'Free', '0', 'Everyone', 'Business', 'February 26, 2018', 'Varies with device', '4.0.3 and up']\n",
      "['Quick PDF Scanner + OCR FREE', 'BUSINESS', '4.2', '80804', 'Varies with device', '5,000,000+', 'Free', '0', 'Everyone', 'Business', 'February 26, 2018', 'Varies with device', '4.0.3 and up']\n",
      "\n",
      "\n",
      "Duplicate app:  Box\n",
      "Num duplicates:  3\n",
      "['Box', 'BUSINESS', '4.2', '159872', 'Varies with device', '10,000,000+', 'Free', '0', 'Everyone', 'Business', 'July 31, 2018', 'Varies with device', 'Varies with device']\n",
      "['Box', 'BUSINESS', '4.2', '159872', 'Varies with device', '10,000,000+', 'Free', '0', 'Everyone', 'Business', 'July 31, 2018', 'Varies with device', 'Varies with device']\n",
      "['Box', 'BUSINESS', '4.2', '159872', 'Varies with device', '10,000,000+', 'Free', '0', 'Everyone', 'Business', 'July 31, 2018', 'Varies with device', 'Varies with device']\n",
      "\n",
      "\n",
      "Duplicate app:  Google My Business\n",
      "Num duplicates:  3\n",
      "['Google My Business', 'BUSINESS', '4.4', '70991', 'Varies with device', '5,000,000+', 'Free', '0', 'Everyone', 'Business', 'July 24, 2018', '2.19.0.204537701', '4.4 and up']\n",
      "['Google My Business', 'BUSINESS', '4.4', '70991', 'Varies with device', '5,000,000+', 'Free', '0', 'Everyone', 'Business', 'July 24, 2018', '2.19.0.204537701', '4.4 and up']\n",
      "['Google My Business', 'BUSINESS', '4.4', '70991', 'Varies with device', '5,000,000+', 'Free', '0', 'Everyone', 'Business', 'July 24, 2018', '2.19.0.204537701', '4.4 and up']\n",
      "\n",
      "\n",
      "Duplicate app:  ZOOM Cloud Meetings\n",
      "Num duplicates:  2\n",
      "['ZOOM Cloud Meetings', 'BUSINESS', '4.4', '31614', '37M', '10,000,000+', 'Free', '0', 'Everyone', 'Business', 'July 20, 2018', '4.1.28165.0716', '4.0 and up']\n",
      "['ZOOM Cloud Meetings', 'BUSINESS', '4.4', '31614', '37M', '10,000,000+', 'Free', '0', 'Everyone', 'Business', 'July 20, 2018', '4.1.28165.0716', '4.0 and up']\n",
      "\n",
      "\n",
      "Duplicate app:  join.me - Simple Meetings\n",
      "Num duplicates:  3\n",
      "['join.me - Simple Meetings', 'BUSINESS', '4.0', '6989', 'Varies with device', '1,000,000+', 'Free', '0', 'Everyone', 'Business', 'July 16, 2018', '4.3.0.508', '4.4 and up']\n",
      "['join.me - Simple Meetings', 'BUSINESS', '4.0', '6989', 'Varies with device', '1,000,000+', 'Free', '0', 'Everyone', 'Business', 'July 16, 2018', '4.3.0.508', '4.4 and up']\n",
      "['join.me - Simple Meetings', 'BUSINESS', '4.0', '6989', 'Varies with device', '1,000,000+', 'Free', '0', 'Everyone', 'Business', 'July 16, 2018', '4.3.0.508', '4.4 and up']\n",
      "\n",
      "\n",
      "Duplicate app:  Zenefits\n",
      "Num duplicates:  2\n",
      "['Zenefits', 'BUSINESS', '4.2', '296', '14M', '50,000+', 'Free', '0', 'Everyone', 'Business', 'June 15, 2018', '3.2.1', '4.1 and up']\n",
      "['Zenefits', 'BUSINESS', '4.2', '296', '14M', '50,000+', 'Free', '0', 'Everyone', 'Business', 'June 15, 2018', '3.2.1', '4.1 and up']\n",
      "\n",
      "\n",
      "Duplicate app:  Google Ads\n",
      "Num duplicates:  3\n",
      "['Google Ads', 'BUSINESS', '4.3', '29313', '20M', '5,000,000+', 'Free', '0', 'Everyone', 'Business', 'July 30, 2018', '1.12.0', '4.0.3 and up']\n",
      "['Google Ads', 'BUSINESS', '4.3', '29313', '20M', '5,000,000+', 'Free', '0', 'Everyone', 'Business', 'July 30, 2018', '1.12.0', '4.0.3 and up']\n",
      "['Google Ads', 'BUSINESS', '4.3', '29331', '20M', '5,000,000+', 'Free', '0', 'Everyone', 'Business', 'July 30, 2018', '1.12.0', '4.0.3 and up']\n",
      "\n",
      "\n",
      "Duplicate app:  Slack\n",
      "Num duplicates:  3\n",
      "['Slack', 'BUSINESS', '4.4', '51507', 'Varies with device', '5,000,000+', 'Free', '0', 'Everyone', 'Business', 'August 2, 2018', 'Varies with device', 'Varies with device']\n",
      "['Slack', 'BUSINESS', '4.4', '51507', 'Varies with device', '5,000,000+', 'Free', '0', 'Everyone', 'Business', 'August 2, 2018', 'Varies with device', 'Varies with device']\n",
      "['Slack', 'BUSINESS', '4.4', '51510', 'Varies with device', '5,000,000+', 'Free', '0', 'Everyone', 'Business', 'August 2, 2018', 'Varies with device', 'Varies with device']\n",
      "\n",
      "\n",
      "Duplicate app:  FreshBooks Classic\n",
      "Num duplicates:  2\n",
      "['FreshBooks Classic', 'BUSINESS', '4.1', '1802', '26M', '100,000+', 'Free', '0', 'Everyone', 'Business', 'April 18, 2018', '1.7.14', '4.2 and up']\n",
      "['FreshBooks Classic', 'BUSINESS', '4.1', '1802', '26M', '100,000+', 'Free', '0', 'Everyone', 'Business', 'April 18, 2018', '1.7.14', '4.2 and up']\n",
      "\n",
      "\n",
      "Duplicate app:  Insightly CRM\n",
      "Num duplicates:  2\n",
      "['Insightly CRM', 'BUSINESS', '3.8', '1383', '51M', '100,000+', 'Free', '0', 'Everyone', 'Business', 'July 12, 2018', '3.24.1', '5.0 and up']\n",
      "['Insightly CRM', 'BUSINESS', '3.8', '1383', '51M', '100,000+', 'Free', '0', 'Everyone', 'Business', 'July 12, 2018', '3.24.1', '5.0 and up']\n",
      "\n",
      "\n"
     ]
    }
   ],
   "source": [
    "# Find the duplicate apps, show how many have duplicate names, and show the first 10 duplicate apps.\n",
    "\n",
    "def find_unique_and_duplicate_apps(data=google_play_data):\n",
    "    \"\"\"Return two dictionaries. The first dictionary has the rows with unique app names and is of the form \n",
    "    {unique_app_name : row_index ...}. The second dictionary has the rows with duplicate rows and is of the form\n",
    "    {duplicate_app_name : [row_index1, row_index2, ...], ...}.\n",
    "    \n",
    "    Keyword arguments:\n",
    "    - data - dataset as a list, without the header\n",
    "    \"\"\"\n",
    "    unique_apps = {}  # dictionary with items of the form app_name : row_index\n",
    "    duplicate_apps = {}  # dictionary with items of the form app_name : [row_index, ...]\n",
    "\n",
    "    row_index = 0\n",
    "\n",
    "    for row in data:\n",
    "        app_name = row[0]  # the app name is in the first column\n",
    "\n",
    "        if app_name in unique_apps:  # if there's a match to an app that doesn't already have a match\n",
    "            first_index = unique_apps[app_name]\n",
    "            del unique_apps[app_name]\n",
    "\n",
    "            # move both the row that was previously thought to be unique and the currently considered app to the duplicates\n",
    "            duplicate_apps[app_name] = [first_index, row_index]      \n",
    "\n",
    "        elif app_name in duplicate_apps:  # if there's a match to an app that already has matches\n",
    "            duplicate_apps[app_name].append(row_index)\n",
    "\n",
    "        else:  # first time this app name was found\n",
    "            unique_apps[app_name] = row_index\n",
    "\n",
    "        row_index += 1\n",
    "        \n",
    "    return unique_apps, duplicate_apps\n",
    "    \n",
    "unique_apps, duplicate_apps = find_unique_and_duplicate_apps()\n",
    "\n",
    "print(\"Number of unique app names: \", len(unique_apps))\n",
    "print(\"Number of duplicate app names: \", len(duplicate_apps))\n",
    "print(\"Total number of apps: \", len(unique_apps) + len(duplicate_apps))\n",
    "print('\\n')\n",
    "\n",
    "# show the first 10 duplicate apps and their associated rows\n",
    "for count, (app_name, row_indices) in enumerate(duplicate_apps.items()):\n",
    "    print(\"Duplicate app: \", app_name)\n",
    "    print(\"Num duplicates: \", len(row_indices))\n",
    "        \n",
    "    for row_index in row_indices:\n",
    "        print(google_play_data[row_index])\n",
    "        \n",
    "    print('\\n')\n",
    "    \n",
    "    if count == 9:\n",
    "        break;\n",
    "    "
   ]
  },
  {
   "cell_type": "markdown",
   "id": "989f329a",
   "metadata": {},
   "source": [
    "Of the apps with duplicated rows keep the row with the maximum number of reviews (number of reviews is in the 4th column). Note that there may be more than one row with the same maximum number of reviews for a duplicated app: if so, all will be removed except one."
   ]
  },
  {
   "cell_type": "code",
   "execution_count": 51,
   "id": "28a58330",
   "metadata": {
    "code_folding": [
     0
    ]
   },
   "outputs": [],
   "source": [
    "# Keep only one app row from each duplicated app. The row kept has the most number of reviews for all duplicate rows for an app.\n",
    "\n",
    "def remove_duplicates(duplicate_app_indices=duplicate_apps.values(), column=3):\n",
    "    \"\"\"Of the apps with duplicated rows keep a single row with the maximum number of reviews and remove the others.\n",
    "    Note that the column with the number of reviews is column 3.\n",
    "    \n",
    "    Keyword arguments:\n",
    "    - duplicate_apps - a list of the form [row_index1, row_index2, ...]\n",
    "    - column - the column from the data used to compare the duplicates\n",
    "    \"\"\"\n",
    "    apps_with_duplicates_removed = []\n",
    "    \n",
    "    for row_indices in duplicate_app_indices:\n",
    "        row_data = []\n",
    "        for row in row_indices:\n",
    "            row_data.append(google_play_data[row])\n",
    "\n",
    "        apps_with_duplicates_removed.append(max(row_data, key=lambda x: x[column]))\n",
    "        \n",
    "    return apps_with_duplicates_removed\n",
    "        \n",
    "apps_with_duplicates_removed = remove_duplicates()\n",
    "\n",
    "# Confirm the number of apps kept is the same as the number of duplicate apps found previously\n",
    "assert len(apps_with_duplicates_removed) == len(duplicate_apps)"
   ]
  },
  {
   "cell_type": "markdown",
   "id": "44419bf4",
   "metadata": {},
   "source": [
    "Put all the cleaned data together."
   ]
  },
  {
   "cell_type": "code",
   "execution_count": 52,
   "id": "1fe8453b",
   "metadata": {
    "code_folding": [
     0
    ]
   },
   "outputs": [
    {
     "name": "stdout",
     "output_type": "stream",
     "text": [
      "Number of records after removing duplicates:  9659\n"
     ]
    }
   ],
   "source": [
    "# Add on the data for apps that already had unique names.\n",
    "\n",
    "for row_index in unique_apps.values():\n",
    "    apps_with_duplicates_removed.append(google_play_data[row_index])\n",
    "    \n",
    "print(\"Number of records after removing duplicates: \", len(apps_with_duplicates_removed))\n",
    "\n",
    "assert len(apps_with_duplicates_removed) == (len(unique_apps) + len(duplicate_apps))"
   ]
  },
  {
   "cell_type": "markdown",
   "id": "7b0fc8df",
   "metadata": {},
   "source": [
    "### Remove apps with non-English names from the data. ###\n",
    "An app is considered to be non-English if the app name has more than 3 non-English characters.\\* \n",
    "\n",
    "The following removes rows that have non-English names from the Google Play and Apple App Store datasets.\n",
    "\n",
    "\\*[*Note*: I think this is a terrible way to determine if an app is not in English: there are many non-English languages that use the same character set. But this is what the Dataquest lesson asked to do.]"
   ]
  },
  {
   "cell_type": "code",
   "execution_count": 53,
   "id": "6d89851d",
   "metadata": {
    "code_folding": [
     0
    ]
   },
   "outputs": [
    {
     "name": "stdout",
     "output_type": "stream",
     "text": [
      "Number of Google Play records after removing non-English apps:  9614\n",
      "Number of non-English Google Play apps removed:  45\n",
      "Number of Apple App Store records after removing non-English apps:  6183\n",
      "Number of non-English Apple App Store apps removed:  1014\n"
     ]
    }
   ],
   "source": [
    "# If an app name has more than 3 non-English characters - i.e. ASCII value > 127 - then remove it from the dataset.\n",
    "\n",
    "def is_english(the_string, max_num_chars=3):\n",
    "    \"\"\" English character ascii values are generally 127 or lower. Check a string to see if it has more than the maximum\n",
    "    number of non-English characters for the string to still be English.\n",
    "    \n",
    "    Keyword arguments:\n",
    "    - the_string - the string to check\n",
    "    - max_num_chars - the maximum number of non-English characters the string can have and still be considered English\n",
    "    \"\"\"\n",
    "    gt_127_count = 0\n",
    "    for character in the_string:\n",
    "        if ord(character) > 127:\n",
    "            gt_127_count += 1\n",
    "            \n",
    "        if gt_127_count > max_num_chars:\n",
    "            return False\n",
    "        \n",
    "    return True\n",
    "\n",
    "cleaned_android_apps = []\n",
    "\n",
    "for app in apps_with_duplicates_removed:\n",
    "    if is_english(app[0]):  # app name is in the 1st column\n",
    "        cleaned_android_apps.append(app)\n",
    "        \n",
    "print(\"Number of Google Play records after removing non-English apps: \", len(cleaned_android_apps))\n",
    "print(\"Number of non-English Google Play apps removed: \", len(apps_with_duplicates_removed) - len(cleaned_android_apps))\n",
    "\n",
    "cleaned_apple_apps = []\n",
    "\n",
    "for app in app_store_data:\n",
    "    if is_english(app[2]):  # app name is in the 3rd column\n",
    "        cleaned_apple_apps.append(app)\n",
    "        \n",
    "print(\"Number of Apple App Store records after removing non-English apps: \", len(cleaned_apple_apps))\n",
    "print(\"Number of non-English Apple App Store apps removed: \", len(app_store_data) - len(cleaned_apple_apps))"
   ]
  },
  {
   "cell_type": "markdown",
   "id": "d0ae1960",
   "metadata": {},
   "source": [
    "### Separate out free apps since paid apps are not part of the analysis. ###"
   ]
  },
  {
   "cell_type": "code",
   "execution_count": 54,
   "id": "b241e189",
   "metadata": {
    "code_folding": [
     0,
     16,
     25
    ]
   },
   "outputs": [
    {
     "name": "stdout",
     "output_type": "stream",
     "text": [
      "Number of free Google Play apps:  8862\n",
      "Number of paid Google Play apps:  752\n",
      "Number of free Apple App Store apps:  3222\n",
      "Number of paid Apple App Store apps:  2961\n"
     ]
    }
   ],
   "source": [
    "def is_free(record, column=7):\n",
    "    \"\"\" Look in the appropriate column in the record for the app price. If the price is '0' then the app is free.\n",
    "    \n",
    "    Keyword arguments:\n",
    "    - record - a record in the form of a list\n",
    "    - column - column to look for the price (default=7 is correct for Google Play data)\n",
    "    \"\"\"\n",
    "    import re\n",
    "    \n",
    "    if float(re.sub(\"[^0-9^.]\", \"\", record[column])) == 0:\n",
    "        return True\n",
    "    \n",
    "    return False\n",
    "\n",
    "free_cleaned_android_apps = []\n",
    "\n",
    "for app in cleaned_android_apps:\n",
    "    if is_free(app):\n",
    "        free_cleaned_android_apps.append(app)\n",
    "        \n",
    "print(\"Number of free Google Play apps: \", len(free_cleaned_android_apps))\n",
    "print(\"Number of paid Google Play apps: \", len(cleaned_android_apps) - len(free_cleaned_android_apps))\n",
    "\n",
    "free_cleaned_apple_apps = []\n",
    "\n",
    "for app in cleaned_apple_apps:\n",
    "    if is_free(app, column=5):  # price is in column 5\n",
    "        free_cleaned_apple_apps.append(app)\n",
    "\n",
    "print(\"Number of free Apple App Store apps: \", len(free_cleaned_apple_apps))\n",
    "print(\"Number of paid Apple App Store apps: \", len(cleaned_apple_apps) - len(free_cleaned_apple_apps))"
   ]
  },
  {
   "cell_type": "markdown",
   "id": "22191c1e",
   "metadata": {},
   "source": [
    "## Which genres/categories are most frequent? ##\n",
    "\n",
    "To get a sense of what are the most common genres for each market build frequency tables using the following columns:\n",
    "\n",
    "**Google Play store data**\n",
    "* `Category`: Category the app belongs to (2nd column)\n",
    "* `Genres`: An app can belong to multiple genres (apart from its main category). For eg, a musical family game will belong to Music, Game, Family genres. (10th column)\n",
    "\n",
    "**Apple App Store data**\n",
    "* `prime_genre`: Primary Genre (13th column)"
   ]
  },
  {
   "cell_type": "code",
   "execution_count": 55,
   "id": "9bde04bf",
   "metadata": {},
   "outputs": [
    {
     "name": "stdout",
     "output_type": "stream",
     "text": [
      "Requirement already satisfied: pandas in d:\\python\\python38\\lib\\site-packages (1.2.4)Note: you may need to restart the kernel to use updated packages.\n",
      "Requirement already satisfied: numpy>=1.16.5 in d:\\python\\python38\\lib\\site-packages (from pandas) (1.20.3)\n",
      "Requirement already satisfied: python-dateutil>=2.7.3 in d:\\python\\python38\\lib\\site-packages (from pandas) (2.8.1)\n",
      "Requirement already satisfied: pytz>=2017.3 in d:\\python\\python38\\lib\\site-packages (from pandas) (2021.1)\n",
      "Requirement already satisfied: six>=1.5 in d:\\python\\python38\\lib\\site-packages (from python-dateutil>=2.7.3->pandas) (1.16.0)\n",
      "\n",
      "Requirement already satisfied: itables in d:\\python\\python38\\lib\\site-packages (0.3.0)\n",
      "Requirement already satisfied: IPython in d:\\python\\python38\\lib\\site-packages (from itables) (7.18.1)\n",
      "Requirement already satisfied: pandas in d:\\python\\python38\\lib\\site-packages (from itables) (1.2.4)\n",
      "Requirement already satisfied: setuptools>=18.5 in d:\\python\\python38\\lib\\site-packages (from IPython->itables) (47.1.0)\n",
      "Requirement already satisfied: traitlets>=4.2 in d:\\python\\python38\\lib\\site-packages (from IPython->itables) (5.0.2)\n",
      "Requirement already satisfied: backcall in d:\\python\\python38\\lib\\site-packages (from IPython->itables) (0.2.0)\n",
      "Requirement already satisfied: decorator in d:\\python\\python38\\lib\\site-packages (from IPython->itables) (4.4.2)\n",
      "Requirement already satisfied: pickleshare in d:\\python\\python38\\lib\\site-packages (from IPython->itables) (0.7.5)\n",
      "Requirement already satisfied: colorama in d:\\python\\python38\\lib\\site-packages (from IPython->itables) (0.4.3)\n",
      "Requirement already satisfied: prompt-toolkit!=3.0.0,!=3.0.1,<3.1.0,>=2.0.0 in d:\\python\\python38\\lib\\site-packages (from IPython->itables) (3.0.7)\n",
      "Requirement already satisfied: pygments in d:\\python\\python38\\lib\\site-packages (from IPython->itables) (2.6.1)\n",
      "Requirement already satisfied: jedi>=0.10 in d:\\python\\python38\\lib\\site-packages (from IPython->itables) (0.17.2)\n",
      "Requirement already satisfied: parso<0.8.0,>=0.7.0 in d:\\python\\python38\\lib\\site-packages (from jedi>=0.10->IPython->itables) (0.7.1)\n",
      "Requirement already satisfied: wcwidth in d:\\python\\python38\\lib\\site-packages (from prompt-toolkit!=3.0.0,!=3.0.1,<3.1.0,>=2.0.0->IPython->itables) (0.2.5)\n",
      "Requirement already satisfied: ipython-genutils in d:\\python\\python38\\lib\\site-packages (from traitlets>=4.2->IPython->itables) (0.2.0)\n",
      "Note: you may need to restart the kernel to use updated packages.\n",
      "Requirement already satisfied: pytz>=2017.3 in d:\\python\\python38\\lib\\site-packages (from pandas->itables) (2021.1)\n",
      "Requirement already satisfied: python-dateutil>=2.7.3 in d:\\python\\python38\\lib\\site-packages (from pandas->itables) (2.8.1)\n",
      "Requirement already satisfied: numpy>=1.16.5 in d:\\python\\python38\\lib\\site-packages (from pandas->itables) (1.20.3)\n",
      "Requirement already satisfied: six>=1.5 in d:\\python\\python38\\lib\\site-packages (from python-dateutil>=2.7.3->pandas->itables) (1.16.0)\n"
     ]
    }
   ],
   "source": [
    "%pip install pandas;\n",
    "%pip install itables;"
   ]
  },
  {
   "cell_type": "code",
   "execution_count": 56,
   "id": "4ccb0665",
   "metadata": {
    "code_folding": [
     0,
     22,
     55,
     60
    ]
   },
   "outputs": [
    {
     "data": {
      "application/javascript": [
       "require.config({\n",
       "    paths: {\n",
       "        datatables: 'https://cdn.datatables.net/1.10.19/js/jquery.dataTables.min',\n",
       "    }\n",
       "});\n",
       "\n",
       "$('head').append('<link rel=\"stylesheet\" type=\"text/css\" \\\n",
       "                href = \"https://cdn.datatables.net/1.10.19/css/jquery.dataTables.min.css\" > ');\n",
       "\n",
       "$('head').append('<style> table td { text-overflow: ellipsis; overflow: hidden; } </style>');\n",
       "\n",
       "$('head').append(`<script>\n",
       "function eval_functions(map_or_text) {\n",
       "    if (typeof map_or_text === \"string\") {\n",
       "        if (map_or_text.startsWith(\"function\")) {\n",
       "            try {\n",
       "                // Note: parenthesis are required around the whole expression for eval to return a value!\n",
       "                // See https://stackoverflow.com/a/7399078/911298.\n",
       "                //\n",
       "                // eval(\"local_fun = \" + map_or_text) would fail because local_fun is not declared\n",
       "                // (using var, let or const would work, but it would only be declared in the local scope\n",
       "                // and therefore the value could not be retrieved).\n",
       "                const func = eval(\"(\" + map_or_text + \")\");\n",
       "                if (typeof func !== \"function\") {\n",
       "                    // Note: backquotes are super convenient!\n",
       "                    // https://developer.mozilla.org/en-US/docs/Web/JavaScript/Reference/Template_literals\n",
       "                    console.error(\"Evaluated expression \" + map_or_text + \" is not a function (type is \" + typeof func + \")\");\n",
       "                    return map_or_text;\n",
       "                }\n",
       "                // Return the function\n",
       "                return func;\n",
       "            } catch (e) {\n",
       "                // Make sure to print the error with a second argument to console.error().\n",
       "                console.error(\"itables was not able to parse \" + map_or_text, e);\n",
       "            }\n",
       "        }\n",
       "    } else if (typeof map_or_text === \"object\") {\n",
       "        if (map_or_text instanceof Array) {\n",
       "            // Note: \"var\" is now superseded by \"let\" and \"const\".\n",
       "            // https://medium.com/javascript-scene/javascript-es6-var-let-or-const-ba58b8dcde75\n",
       "            const result = [];\n",
       "            // Note: \"for of\" is the best way to iterate through an iterable.\n",
       "            // https://developer.mozilla.org/en-US/docs/Web/JavaScript/Reference/Statements/for...of\n",
       "            for (const item of map_or_text) {\n",
       "                result.push(eval_functions(item));\n",
       "            }\n",
       "            return result;\n",
       "\n",
       "            // Alternatively, more functional approach in one line:\n",
       "            // return map_or_text.map(eval_functions);\n",
       "        } else {\n",
       "            const result = {};\n",
       "            // Object.keys() is safer than \"for in\" because otherwise you might have keys\n",
       "            // that aren't defined in the object itself.\n",
       "            //\n",
       "            // See https://stackoverflow.com/a/684692/911298.\n",
       "            for (const item of Object.keys(map_or_text)) {\n",
       "                result[item] = eval_functions(map_or_text[item]);\n",
       "            }\n",
       "            return result;\n",
       "        }\n",
       "    }\n",
       "\n",
       "    return map_or_text;\n",
       "}\n",
       "\n",
       "</` + 'script>');"
      ],
      "text/plain": [
       "<IPython.core.display.Javascript object>"
      ]
     },
     "metadata": {},
     "output_type": "display_data"
    }
   ],
   "source": [
    "from pandas import DataFrame\n",
    "from itables import init_notebook_mode, show, options as opt\n",
    "opt.classes = [\"compact\"]\n",
    "init_notebook_mode(all_interactive=True)\n",
    "\n",
    "def freq_table(dataset, column):\n",
    "    \"\"\"Output a dictionary with column values as keys and frequency of the column value as the value, sorted by frequency in\n",
    "    descending order.\n",
    "    Note: sorting a dictionary works with Python 3.7+ only.\n",
    "    \n",
    "    Keyword arguments:\n",
    "    - dataset - dataset in the form of a list of lists\n",
    "    - column - the column to use from the dataset\n",
    "    \"\"\"\n",
    "    freq_dict = {}\n",
    "    \n",
    "    for row in dataset:\n",
    "        column_values = row[column].split(';')  # can be multiple values delimited by the semicolon\n",
    "        \n",
    "        for column_value in column_values:        \n",
    "            freq_dict[column_value] = freq_dict.get(column_value, 0) + 1\n",
    "\n",
    "    return {k: v for k, v in sorted(freq_dict.items(), key=lambda item: item[1], reverse=True)}\n",
    "\n",
    "def convert_to_pandas_dataframe(field_names, dataset):\n",
    "    \"\"\"Take a dataset (with no header) with records as a list of values and a field name list and output a pandas dataframe. \n",
    "    A pandas dataframe is a dictionary with the names in the header as keys and the values in an list, ordered by record order.\n",
    "    A dataset that looks like this:\n",
    "    \n",
    "    field_names = ['huey', 'louie', 'gooey']\n",
    "    dataset = [[1, 2, 3], [4, 5, 6]]\n",
    "    \n",
    "    is outputted as this:\n",
    "    \n",
    "    {'huey' : [1, 4], 'louie' : [2, 5], 'gooey' : [3, 6]}\n",
    "    \n",
    "    Keyword arguments:\n",
    "    - field_names - an ordered list of names for each column in the dataset\n",
    "    - dataset - a list of records where the records are a list of values, ordered as in field_names\n",
    "    \"\"\"\n",
    "    df = {}\n",
    "    \n",
    "    for record in dataset:\n",
    "        for field_name, value in zip(field_names, record):\n",
    "#             print(\"field_name value:\", field_name, value)\n",
    "            if field_name in df:\n",
    "                df[field_name].append(value)\n",
    "            else:\n",
    "                df[field_name] = [value]\n",
    "                \n",
    "    return DataFrame(df)"
   ]
  },
  {
   "cell_type": "code",
   "execution_count": 57,
   "id": "30e96d74",
   "metadata": {},
   "outputs": [
    {
     "name": "stdout",
     "output_type": "stream",
     "text": [
      "\n",
      "Google Play store: Category\n"
     ]
    },
    {
     "data": {
      "text/html": [
       "<div><table id=\"75ccc531-d8d4-4fc7-8bea-79bf2af8236c\" class=\"compact\"><thead>\n",
       "    <tr style=\"text-align: right;\">\n",
       "      \n",
       "      <th>Category</th>\n",
       "      <th>Num apps</th>\n",
       "      <th>% of total</th>\n",
       "    </tr>\n",
       "  </thead></table>\n",
       "<script type=\"text/javascript\">\n",
       "require([\"datatables\"], function (datatables) {\n",
       "    $(document).ready(function () {\n",
       "        var dt_args = {\"paging\": false, \"order\": [[1, \"desc\"]], \"columnDefs\": [{\"className\": \"dt-left\", \"targets\": 0}], \"data\": [[\"FAMILY\", 1678, \"18.9%\"], [\"GAME\", 859, \"9.7%\"], [\"TOOLS\", 749, \"8.5%\"], [\"BUSINESS\", 407, \"4.6%\"], [\"LIFESTYLE\", 346, \"3.9%\"], [\"PRODUCTIVITY\", 345, \"3.9%\"], [\"FINANCE\", 328, \"3.7%\"], [\"MEDICAL\", 312, \"3.5%\"], [\"SPORTS\", 301, \"3.4%\"], [\"PERSONALIZATION\", 294, \"3.3%\"], [\"COMMUNICATION\", 287, \"3.2%\"], [\"HEALTH_AND_FITNESS\", 273, \"3.1%\"], [\"PHOTOGRAPHY\", 261, \"2.9%\"], [\"NEWS_AND_MAGAZINES\", 248, \"2.8%\"], [\"SOCIAL\", 236, \"2.7%\"], [\"TRAVEL_AND_LOCAL\", 207, \"2.3%\"], [\"SHOPPING\", 199, \"2.2%\"], [\"BOOKS_AND_REFERENCE\", 190, \"2.1%\"], [\"DATING\", 165, \"1.9%\"], [\"VIDEO_PLAYERS\", 159, \"1.8%\"], [\"MAPS_AND_NAVIGATION\", 124, \"1.4%\"], [\"FOOD_AND_DRINK\", 110, \"1.2%\"], [\"EDUCATION\", 104, \"1.2%\"], [\"ENTERTAINMENT\", 85, \"1.0%\"], [\"LIBRARIES_AND_DEMO\", 83, \"0.9%\"], [\"AUTO_AND_VEHICLES\", 82, \"0.9%\"], [\"HOUSE_AND_HOME\", 73, \"0.8%\"], [\"WEATHER\", 71, \"0.8%\"], [\"EVENTS\", 63, \"0.7%\"], [\"PARENTING\", 58, \"0.7%\"], [\"ART_AND_DESIGN\", 57, \"0.6%\"], [\"COMICS\", 55, \"0.6%\"], [\"BEAUTY\", 53, \"0.6%\"]]};\n",
       "        dt_args = eval_functions(dt_args);\n",
       "        table = $('#75ccc531-d8d4-4fc7-8bea-79bf2af8236c').DataTable(dt_args);\n",
       "    });\n",
       "})\n",
       "</script>\n",
       "</div>\n"
      ],
      "text/plain": [
       "<IPython.core.display.HTML object>"
      ]
     },
     "metadata": {},
     "output_type": "display_data"
    },
    {
     "name": "stdout",
     "output_type": "stream",
     "text": [
      "\n",
      "Google Play store: Genres\n"
     ]
    },
    {
     "data": {
      "text/html": [
       "<div><table id=\"2516202b-3203-4229-88ec-69085a248dbc\" class=\"compact\"><thead>\n",
       "    <tr style=\"text-align: right;\">\n",
       "      \n",
       "      <th>Category</th>\n",
       "      <th>Num apps</th>\n",
       "      <th>% of total</th>\n",
       "    </tr>\n",
       "  </thead></table>\n",
       "<script type=\"text/javascript\">\n",
       "require([\"datatables\"], function (datatables) {\n",
       "    $(document).ready(function () {\n",
       "        var dt_args = {\"paging\": false, \"order\": [[1, \"desc\"]], \"columnDefs\": [{\"className\": \"dt-left\", \"targets\": 0}], \"data\": [[\"Tools\", 749, \"8.2%\"], [\"Education\", 606, \"6.6%\"], [\"Entertainment\", 569, \"6.2%\"], [\"Business\", 407, \"4.4%\"], [\"Lifestyle\", 347, \"3.8%\"], [\"Productivity\", 345, \"3.8%\"], [\"Finance\", 328, \"3.6%\"], [\"Medical\", 312, \"3.4%\"], [\"Sports\", 309, \"3.4%\"], [\"Personalization\", 294, \"3.2%\"], [\"Communication\", 288, \"3.1%\"], [\"Action\", 284, \"3.1%\"], [\"Health & Fitness\", 275, \"3.0%\"], [\"Photography\", 261, \"2.8%\"], [\"News & Magazines\", 248, \"2.7%\"], [\"Social\", 236, \"2.6%\"], [\"Casual\", 209, \"2.3%\"], [\"Travel & Local\", 207, \"2.3%\"], [\"Shopping\", 199, \"2.2%\"], [\"Simulation\", 191, \"2.1%\"], [\"Books & Reference\", 191, \"2.1%\"], [\"Arcade\", 176, \"1.9%\"], [\"Dating\", 165, \"1.8%\"], [\"Video Players & Editors\", 160, \"1.7%\"], [\"Maps & Navigation\", 124, \"1.3%\"], [\"Puzzle\", 122, \"1.3%\"], [\"Food & Drink\", 110, \"1.2%\"], [\"Racing\", 104, \"1.1%\"], [\"Role Playing\", 91, \"1.0%\"], [\"Educational\", 88, \"1.0%\"], [\"Strategy\", 84, \"0.9%\"], [\"Libraries & Demo\", 83, \"0.9%\"], [\"Auto & Vehicles\", 82, \"0.9%\"], [\"Action & Adventure\", 81, \"0.9%\"], [\"House & Home\", 73, \"0.8%\"], [\"Weather\", 71, \"0.8%\"], [\"Adventure\", 64, \"0.7%\"], [\"Events\", 63, \"0.7%\"], [\"Art & Design\", 61, \"0.7%\"], [\"Parenting\", 58, \"0.6%\"], [\"Brain Games\", 55, \"0.6%\"], [\"Comics\", 55, \"0.6%\"], [\"Beauty\", 53, \"0.6%\"], [\"Pretend Play\", 46, \"0.5%\"], [\"Board\", 43, \"0.5%\"], [\"Card\", 41, \"0.4%\"], [\"Trivia\", 38, \"0.4%\"], [\"Casino\", 38, \"0.4%\"], [\"Music & Video\", 30, \"0.3%\"], [\"Creativity\", 28, \"0.3%\"], [\"Word\", 23, \"0.3%\"], [\"Music\", 20, \"0.2%\"], [\"Music & Audio\", 1, \"0.0%\"]]};\n",
       "        dt_args = eval_functions(dt_args);\n",
       "        table = $('#2516202b-3203-4229-88ec-69085a248dbc').DataTable(dt_args);\n",
       "    });\n",
       "})\n",
       "</script>\n",
       "</div>\n"
      ],
      "text/plain": [
       "<IPython.core.display.HTML object>"
      ]
     },
     "metadata": {},
     "output_type": "display_data"
    }
   ],
   "source": [
    "print(\"\\nGoogle Play store: Category\")\n",
    "sorted_freq_table = freq_table(free_cleaned_android_apps, 1)\n",
    "\n",
    "# get the total number of values to calculate percentages\n",
    "total = 0\n",
    "for value in sorted_freq_table.values():\n",
    "    total = total + value\n",
    "\n",
    "table_list = []\n",
    "\n",
    "for entry in sorted_freq_table.items():\n",
    "    table_list.append([entry[0], entry[1], \"{:.1%}\".format(float(entry[1])/total)])\n",
    "\n",
    "headers=[\"Category\", \"Num apps\", \"% of total\"]\n",
    "df = convert_to_pandas_dataframe(headers, table_list)\n",
    "\n",
    "show(df, paging=False, order=[[1, \"desc\"]], columnDefs=[{\"className\":\"dt-left\",  \"targets\": 0}])\n",
    "    \n",
    "print(\"\\nGoogle Play store: Genres\")\n",
    "sorted_freq_table = freq_table(free_cleaned_android_apps, 9)\n",
    "\n",
    "# get the total number of values to calculate percentages\n",
    "total = 0\n",
    "for value in sorted_freq_table.values():\n",
    "    total = total + value\n",
    "\n",
    "table_list = []\n",
    "\n",
    "for entry in sorted_freq_table.items():\n",
    "    table_list.append([entry[0], entry[1], \"{:.1%}\".format(float(entry[1])/total)])\n",
    "\n",
    "headers=[\"Category\", \"Num apps\", \"% of total\"]\n",
    "df = convert_to_pandas_dataframe(headers, table_list)\n",
    "\n",
    "show(df, paging=False, order=[[1, \"desc\"]], columnDefs=[{\"className\":\"dt-left\",  \"targets\": 0}])"
   ]
  },
  {
   "cell_type": "code",
   "execution_count": 58,
   "id": "df497822",
   "metadata": {},
   "outputs": [
    {
     "name": "stdout",
     "output_type": "stream",
     "text": [
      "\n",
      "Apple App Store: prime_genre\n"
     ]
    },
    {
     "data": {
      "text/html": [
       "<div><table id=\"daae5fa8-7b31-4b1f-b01e-8294579dbbad\" class=\"compact\"><thead>\n",
       "    <tr style=\"text-align: right;\">\n",
       "      \n",
       "      <th>prime_genre</th>\n",
       "      <th>Num apps</th>\n",
       "      <th>% of total</th>\n",
       "    </tr>\n",
       "  </thead></table>\n",
       "<script type=\"text/javascript\">\n",
       "require([\"datatables\"], function (datatables) {\n",
       "    $(document).ready(function () {\n",
       "        var dt_args = {\"paging\": false, \"order\": [[1, \"desc\"]], \"columnDefs\": [{\"className\": \"dt-left\", \"targets\": 0}], \"data\": [[\"Games\", 1874, \"58.2%\"], [\"Entertainment\", 254, \"7.9%\"], [\"Photo & Video\", 160, \"5.0%\"], [\"Education\", 118, \"3.7%\"], [\"Social Networking\", 106, \"3.3%\"], [\"Shopping\", 84, \"2.6%\"], [\"Utilities\", 81, \"2.5%\"], [\"Sports\", 69, \"2.1%\"], [\"Music\", 66, \"2.0%\"], [\"Health & Fitness\", 65, \"2.0%\"], [\"Productivity\", 56, \"1.7%\"], [\"Lifestyle\", 51, \"1.6%\"], [\"News\", 43, \"1.3%\"], [\"Travel\", 40, \"1.2%\"], [\"Finance\", 36, \"1.1%\"], [\"Weather\", 28, \"0.9%\"], [\"Food & Drink\", 26, \"0.8%\"], [\"Reference\", 18, \"0.6%\"], [\"Business\", 17, \"0.5%\"], [\"Book\", 14, \"0.4%\"], [\"Navigation\", 6, \"0.2%\"], [\"Medical\", 6, \"0.2%\"], [\"Catalogs\", 4, \"0.1%\"]]};\n",
       "        dt_args = eval_functions(dt_args);\n",
       "        table = $('#daae5fa8-7b31-4b1f-b01e-8294579dbbad').DataTable(dt_args);\n",
       "    });\n",
       "})\n",
       "</script>\n",
       "</div>\n"
      ],
      "text/plain": [
       "<IPython.core.display.HTML object>"
      ]
     },
     "metadata": {},
     "output_type": "display_data"
    }
   ],
   "source": [
    "print(\"\\nApple App Store: prime_genre\")\n",
    "sorted_freq_table = freq_table(free_cleaned_apple_apps, 12)\n",
    "\n",
    "# get the total number of values to calculate percentages\n",
    "total = 0\n",
    "for value in sorted_freq_table.values():\n",
    "    total = total + value\n",
    "\n",
    "table_list = []\n",
    "\n",
    "for entry in sorted_freq_table.items():\n",
    "    table_list.append([entry[0], entry[1], \"{:.1%}\".format(float(entry[1])/total)])\n",
    "\n",
    "headers=[\"prime_genre\", \"Num apps\", \"% of total\"]\n",
    "df = convert_to_pandas_dataframe(headers, table_list)\n",
    "\n",
    "show(df, paging=False, order=[[1, \"desc\"]], columnDefs=[{\"className\":\"dt-left\",  \"targets\": 0}])"
   ]
  },
  {
   "cell_type": "markdown",
   "id": "da67b938",
   "metadata": {},
   "source": [
    "### Comments on Frequency Tables ###\n",
    "#### Google Play store data ####\n",
    "##### `Category` field #####\n",
    "- The most common Category is *FAMILY*, almost twice the next most common category, *GAME*.\n",
    "- *TOOLS* is not too far behind *GAME* in frequency.\n",
    "- The next two most common Categories are \"BUSINESS\" and \"LIFESTYLE\".\n",
    "\n",
    "##### `Genres` field #####\n",
    "- The most common Genre is *Tools* but it does not dominate the `Genres` field, like *Games* in the Apple App Store data and *FAMILY* in the `Category` field.\n",
    "- The next most common in `Genre` are *Education*, *Entertainment*, *Business*, and *Lifestyle*.\n",
    "\n",
    "Since the top two in `Genre`, *Tools* and *Education*, do not match the top two in `Category`, *FAMILY* and *GAME*, it is not clear how the `Genre` and `Category` fields relate to each other. Regardless, compared to the Apple data, there seems to be a much lower number of entertainment oriented apps relative the rest of the apps.\n",
    "#### Apple App Store data #####\n",
    "- The most common genre, by far, is *Games* with more free English-language apps in that genre than all the other genres put together.\n",
    "- The next most common genre is *Entertainment*.\n",
    "- The top two genres are 'leisure' activities.\n",
    "- The next three most common genres are *Photo & Video*, *Education*, & *Social Networking*, all with at least 100 free English-language apps.\n",
    "- Most of the apps seem to be designed for entertainment purposes (e.g. Games, Entertainment, Photo & Video, Social Networking, etc.) rather than practical purposes (e.g. Education, Shopping, Utilities, Health & Fitness, etc.).\n",
    "\n",
    "It is also not clear how representative these fields in the Apple and Google data are of frequency of app use because it does not consider the number of users for the values in each field. These values only represent the number of apps in each genre/category."
   ]
  },
  {
   "cell_type": "markdown",
   "id": "ec81feef",
   "metadata": {},
   "source": [
    "## Which app genres have the most users? ##"
   ]
  },
  {
   "cell_type": "markdown",
   "id": "0ced51e2",
   "metadata": {},
   "source": [
    "### Google Play data ###\n",
    "Unlike the Apple App Store data, the Google Play data has the actual number of installations of an app in the `Installs` field. Unfortunately, the number of installs is not given in precise numbers. Instead it is given in values like *100+, 5,000+, 1,000,000+, and 10,000,000+*. The value *1,000,000+* could mean anything from 1,000,000 to 9,999,999. In the calculations below the plus sign is removed from the number and that number is used - so the value *1,000,000+* will be translated to the number 1,000,000 in the calculations, for instance.\n",
    "#### 'Opportunity' score\n",
    "Ideally, the app should be in a genre that has a high average install rate but also one in which the app is more likely to stand out from the other apps. Standing out might be difficult in genres that have a lot of apps - the opportunity to stand out is easier in genres that contain few apps, while still have a high average number of installations per app. To capture this 'opportunity' within a genre, a score is calculated that simply divides the average number of installations by the number of apps:\n",
    "\n",
    "                     average number of installs per app \n",
    "    opportunity  =   ---------------------------------- \n",
    "                               number of apps           "
   ]
  },
  {
   "cell_type": "code",
   "execution_count": 59,
   "id": "c3f47031",
   "metadata": {
    "scrolled": true
   },
   "outputs": [
    {
     "name": "stdout",
     "output_type": "stream",
     "text": [
      "\n",
      "Installations per Category:\n"
     ]
    },
    {
     "data": {
      "text/html": [
       "<div><table id=\"a5edbbae-0891-44a2-a89e-1d7a5965fae9\" class=\"compact\"><thead>\n",
       "    <tr style=\"text-align: right;\">\n",
       "      \n",
       "      <th>Category</th>\n",
       "      <th>Total installs count</th>\n",
       "      <th>% of installs</th>\n",
       "      <th>Num apps</th>\n",
       "      <th>Avg # of installs/app</th>\n",
       "      <th>Opportunity</th>\n",
       "    </tr>\n",
       "  </thead></table>\n",
       "<script type=\"text/javascript\">\n",
       "require([\"datatables\"], function (datatables) {\n",
       "    $(document).ready(function () {\n",
       "        var dt_args = {\"paging\": false, \"order\": [[1, \"desc\"]], \"columnDefs\": [{\"className\": \"dt-left\", \"targets\": 0}], \"data\": [[\"GAME\", \"13,366,869,450\", \"17.8%\", \"859\", \"15,560,965\", \"18,115\"], [\"COMMUNICATION\", \"11,036,906,201\", \"14.7%\", \"287\", \"38,456,119\", \"133,993\"], [\"TOOLS\", \"8,001,043,474\", \"10.7%\", \"749\", \"10,682,301\", \"14,262\"], [\"FAMILY\", \"6,198,995,690\", \"8.3%\", \"1,678\", \"3,694,276\", \"2,201\"], [\"PRODUCTIVITY\", \"5,791,629,314\", \"7.7%\", \"345\", \"16,787,331\", \"48,658\"], [\"SOCIAL\", \"5,487,861,902\", \"7.3%\", \"236\", \"23,253,652\", \"98,532\"], [\"PHOTOGRAPHY\", \"4,647,268,815\", \"6.2%\", \"261\", \"17,805,627\", \"68,220\"], [\"VIDEO_PLAYERS\", \"3,931,731,720\", \"5.2%\", \"159\", \"24,727,872\", \"155,521\"], [\"TRAVEL_AND_LOCAL\", \"2,894,704,086\", \"3.9%\", \"207\", \"13,984,077\", \"67,555\"], [\"NEWS_AND_MAGAZINES\", \"2,368,196,260\", \"3.2%\", \"248\", \"9,549,178\", \"38,504\"], [\"BOOKS_AND_REFERENCE\", \"1,665,884,260\", \"2.2%\", \"190\", \"8,767,811\", \"46,146\"], [\"PERSONALIZATION\", \"1,529,235,888\", \"2.0%\", \"294\", \"5,201,482\", \"17,692\"], [\"SHOPPING\", \"1,400,338,585\", \"1.9%\", \"199\", \"7,036,877\", \"35,361\"], [\"HEALTH_AND_FITNESS\", \"1,143,548,402\", \"1.5%\", \"273\", \"4,188,821\", \"15,343\"], [\"SPORTS\", \"1,095,230,683\", \"1.5%\", \"301\", \"3,638,640\", \"12,088\"], [\"ENTERTAINMENT\", \"989,460,000\", \"1.3%\", \"85\", \"11,640,705\", \"136,949\"], [\"BUSINESS\", \"696,902,090\", \"0.9%\", \"407\", \"1,712,290\", \"4,207\"], [\"MAPS_AND_NAVIGATION\", \"503,060,780\", \"0.7%\", \"124\", \"4,056,941\", \"32,717\"], [\"LIFESTYLE\", \"497,484,429\", \"0.7%\", \"346\", \"1,437,816\", \"4,155\"], [\"FINANCE\", \"455,163,132\", \"0.6%\", \"328\", \"1,387,692\", \"4,230\"], [\"WEATHER\", \"360,288,520\", \"0.5%\", \"71\", \"5,074,486\", \"71,471\"], [\"FOOD_AND_DRINK\", \"211,738,751\", \"0.3%\", \"110\", \"1,924,897\", \"17,499\"], [\"EDUCATION\", \"189,350,000\", \"0.3%\", \"104\", \"1,820,673\", \"17,506\"], [\"DATING\", \"140,914,757\", \"0.2%\", \"165\", \"854,028\", \"5,175\"], [\"ART_AND_DESIGN\", \"113,221,100\", \"0.2%\", \"57\", \"1,986,335\", \"34,847\"], [\"HOUSE_AND_HOME\", \"97,202,461\", \"0.1%\", \"73\", \"1,331,540\", \"18,240\"], [\"AUTO_AND_VEHICLES\", \"53,080,061\", \"0.1%\", \"82\", \"647,317\", \"7,894\"], [\"LIBRARIES_AND_DEMO\", \"52,995,810\", \"0.1%\", \"83\", \"638,503\", \"7,692\"], [\"COMICS\", \"44,971,150\", \"0.1%\", \"55\", \"817,657\", \"14,866\"], [\"MEDICAL\", \"37,632,344\", \"0.1%\", \"312\", \"120,616\", \"386\"], [\"PARENTING\", \"31,471,010\", \"0.0%\", \"58\", \"542,603\", \"9,355\"], [\"BEAUTY\", \"27,197,050\", \"0.0%\", \"53\", \"513,151\", \"9,682\"], [\"EVENTS\", \"15,973,160\", \"0.0%\", \"63\", \"253,542\", \"4,024\"]]};\n",
       "        dt_args = eval_functions(dt_args);\n",
       "        table = $('#a5edbbae-0891-44a2-a89e-1d7a5965fae9').DataTable(dt_args);\n",
       "    });\n",
       "})\n",
       "</script>\n",
       "</div>\n"
      ],
      "text/plain": [
       "<IPython.core.display.HTML object>"
      ]
     },
     "metadata": {},
     "output_type": "display_data"
    },
    {
     "name": "stdout",
     "output_type": "stream",
     "text": [
      "\n",
      "Installations per Genre:\n"
     ]
    },
    {
     "data": {
      "text/html": [
       "<div><table id=\"c57f799f-e941-41c8-bf90-00008ec562b0\" class=\"compact\"><thead>\n",
       "    <tr style=\"text-align: right;\">\n",
       "      \n",
       "      <th>Genre</th>\n",
       "      <th>Total installs count</th>\n",
       "      <th>% of installs</th>\n",
       "      <th>Num apps</th>\n",
       "      <th>Avg # of installs/app</th>\n",
       "      <th>Opportunity</th>\n",
       "    </tr>\n",
       "  </thead></table>\n",
       "<script type=\"text/javascript\">\n",
       "require([\"datatables\"], function (datatables) {\n",
       "    $(document).ready(function () {\n",
       "        var dt_args = {\"paging\": false, \"order\": [[1, \"desc\"]], \"columnDefs\": [{\"className\": \"dt-left\", \"targets\": 0}], \"data\": [[\"Communication\", \"11,037,406,201\", \"14.4%\", \"288\", \"38,324,327\", \"133,070\"], [\"Tools\", \"8,001,043,474\", \"10.4%\", \"749\", \"10,682,301\", \"14,262\"], [\"Productivity\", \"5,791,629,314\", \"7.5%\", \"345\", \"16,787,331\", \"48,658\"], [\"Social\", \"5,487,861,902\", \"7.2%\", \"236\", \"23,253,652\", \"98,532\"], [\"Photography\", \"4,647,268,815\", \"6.1%\", \"261\", \"17,805,627\", \"68,220\"], [\"Video Players & Editors\", \"3,936,731,720\", \"5.1%\", \"160\", \"24,604,573\", \"153,778\"], [\"Arcade\", \"3,789,791,941\", \"4.9%\", \"176\", \"21,532,908\", \"122,346\"], [\"Action\", \"3,518,986,940\", \"4.6%\", \"284\", \"12,390,799\", \"43,629\"], [\"Casual\", \"3,405,009,570\", \"4.4%\", \"209\", \"16,291,911\", \"77,951\"], [\"Entertainment\", \"3,159,702,513\", \"4.1%\", \"569\", \"5,553,079\", \"9,759\"], [\"Travel & Local\", \"2,894,704,086\", \"3.8%\", \"207\", \"13,984,077\", \"67,555\"], [\"News & Magazines\", \"2,368,196,260\", \"3.1%\", \"248\", \"9,549,178\", \"38,504\"], [\"Books & Reference\", \"1,665,885,260\", \"2.2%\", \"191\", \"8,721,912\", \"45,664\"], [\"Racing\", \"1,533,386,820\", \"2.0%\", \"104\", \"14,744,104\", \"141,770\"], [\"Personalization\", \"1,529,235,888\", \"2.0%\", \"294\", \"5,201,482\", \"17,692\"], [\"Sports\", \"1,421,330,683\", \"1.9%\", \"309\", \"4,599,775\", \"14,886\"], [\"Shopping\", \"1,400,338,585\", \"1.8%\", \"199\", \"7,036,877\", \"35,361\"], [\"Health & Fitness\", \"1,144,648,402\", \"1.5%\", \"275\", \"4,162,357\", \"15,135\"], [\"Puzzle\", \"1,031,196,191\", \"1.3%\", \"122\", \"8,452,427\", \"69,282\"], [\"Strategy\", \"909,692,105\", \"1.2%\", \"84\", \"10,829,667\", \"128,924\"], [\"Business\", \"696,902,090\", \"0.9%\", \"407\", \"1,712,290\", \"4,207\"], [\"Action & Adventure\", \"680,800,001\", \"0.9%\", \"81\", \"8,404,938\", \"103,764\"], [\"Education\", \"675,230,530\", \"0.9%\", \"606\", \"1,114,241\", \"1,838\"], [\"Simulation\", \"664,163,120\", \"0.9%\", \"191\", \"3,477,293\", \"18,205\"], [\"Maps & Navigation\", \"503,060,780\", \"0.7%\", \"124\", \"4,056,941\", \"32,717\"], [\"Lifestyle\", \"497,584,429\", \"0.6%\", \"347\", \"1,433,960\", \"4,132\"], [\"Finance\", \"455,163,132\", \"0.6%\", \"328\", \"1,387,692\", \"4,230\"], [\"Adventure\", \"411,367,120\", \"0.5%\", \"64\", \"6,427,611\", \"100,431\"], [\"Role Playing\", \"381,248,570\", \"0.5%\", \"91\", \"4,189,544\", \"46,038\"], [\"Weather\", \"360,288,520\", \"0.5%\", \"71\", \"5,074,486\", \"71,471\"], [\"Pretend Play\", \"270,800,000\", \"0.4%\", \"46\", \"5,886,956\", \"127,977\"], [\"Brain Games\", \"246,071,000\", \"0.3%\", \"55\", \"4,474,018\", \"81,345\"], [\"Educational\", \"234,019,110\", \"0.3%\", \"88\", \"2,659,308\", \"30,219\"], [\"Food & Drink\", \"211,738,751\", \"0.3%\", \"110\", \"1,924,897\", \"17,499\"], [\"Word\", \"209,172,550\", \"0.3%\", \"23\", \"9,094,458\", \"395,411\"], [\"Music\", \"180,120,500\", \"0.2%\", \"20\", \"9,006,025\", \"450,301\"], [\"Card\", \"152,718,500\", \"0.2%\", \"41\", \"3,724,841\", \"90,849\"], [\"Music & Video\", \"144,610,000\", \"0.2%\", \"30\", \"4,820,333\", \"160,677\"], [\"Dating\", \"140,914,757\", \"0.2%\", \"165\", \"854,028\", \"5,175\"], [\"Casino\", \"130,260,600\", \"0.2%\", \"38\", \"3,427,910\", \"90,208\"], [\"Trivia\", \"128,601,470\", \"0.2%\", \"38\", \"3,384,249\", \"89,059\"], [\"Board\", \"125,663,110\", \"0.2%\", \"43\", \"2,922,397\", \"67,962\"], [\"Art & Design\", \"114,821,100\", \"0.1%\", \"61\", \"1,882,313\", \"30,857\"], [\"House & Home\", \"97,202,461\", \"0.1%\", \"73\", \"1,331,540\", \"18,240\"], [\"Creativity\", \"72,260,000\", \"0.1%\", \"28\", \"2,580,714\", \"92,168\"], [\"Auto & Vehicles\", \"53,080,061\", \"0.1%\", \"82\", \"647,317\", \"7,894\"], [\"Libraries & Demo\", \"52,995,810\", \"0.1%\", \"83\", \"638,503\", \"7,692\"], [\"Comics\", \"44,971,150\", \"0.1%\", \"55\", \"817,657\", \"14,866\"], [\"Medical\", \"37,632,344\", \"0.0%\", \"312\", \"120,616\", \"386\"], [\"Parenting\", \"31,471,010\", \"0.0%\", \"58\", \"542,603\", \"9,355\"], [\"Beauty\", \"27,197,050\", \"0.0%\", \"53\", \"513,151\", \"9,682\"], [\"Events\", \"15,973,160\", \"0.0%\", \"63\", \"253,542\", \"4,024\"], [\"Music & Audio\", \"500,000\", \"0.0%\", \"1\", \"500,000\", \"500,000\"]]};\n",
       "        dt_args = eval_functions(dt_args);\n",
       "        table = $('#c57f799f-e941-41c8-bf90-00008ec562b0').DataTable(dt_args);\n",
       "    });\n",
       "})\n",
       "</script>\n",
       "</div>\n"
      ],
      "text/plain": [
       "<IPython.core.display.HTML object>"
      ]
     },
     "metadata": {},
     "output_type": "display_data"
    }
   ],
   "source": [
    "# Calculate the total number of installs for each Category and Genre.\n",
    "total_number_installs_per_category = {}\n",
    "total_number_installs_per_genre = {}\n",
    "total_number_apps_per_category = {}\n",
    "total_number_apps_per_genre = {}\n",
    "\n",
    "for row in free_cleaned_android_apps:    \n",
    "    installs = int(row[5].replace('+', '').replace(',', ''))\n",
    "    \n",
    "    category = row[1]\n",
    "    total_number_installs_per_category[category] = total_number_installs_per_category.get(category, 0) + installs\n",
    "    total_number_apps_per_category[category] = total_number_apps_per_category.get(category, 0) + 1\n",
    "    \n",
    "    genre_values = row[9].split(';')  # can be multiple values delimited by the semicolon\n",
    "        \n",
    "    for genre in genre_values:        \n",
    "        total_number_installs_per_genre[genre] = total_number_installs_per_genre.get(genre, 0) + installs\n",
    "        total_number_apps_per_genre[genre] = total_number_apps_per_genre.get(genre, 0) + 1\n",
    "    \n",
    "sorted_total_number_installs_per_category = {k: v for k, v in sorted(total_number_installs_per_category.items(), \n",
    "                                             key=lambda item: item[1], reverse=True)}\n",
    "sorted_total_number_installs_per_genre = {k: v for k, v in sorted(total_number_installs_per_genre.items(), \n",
    "                                          key=lambda item: item[1], reverse=True)}\n",
    "\n",
    "print(\"\\nInstallations per Category:\" )\n",
    "\n",
    "# get the total number of values to calculate percentages\n",
    "total = 0\n",
    "for value in sorted_total_number_installs_per_category.values():\n",
    "    total = total + value\n",
    "    \n",
    "table_list = []\n",
    "\n",
    "for entry in sorted_total_number_installs_per_category.items():\n",
    "    percent_num_installs = float(entry[1])/total\n",
    "    num_apps = total_number_apps_per_category[entry[0]]\n",
    "    avg_num_installs = int(entry[1]/num_apps)\n",
    "    avg_num_installs_per_num_apps = int(avg_num_installs/num_apps)\n",
    "    \n",
    "    table_list.append([entry[0], \n",
    "                       \"{:,}\".format(entry[1]), \n",
    "                       \"{:.1%}\".format(percent_num_installs),\n",
    "                       \"{:,}\".format(num_apps),\n",
    "                       \"{:,}\".format(avg_num_installs),\n",
    "                       \"{:,}\".format(avg_num_installs_per_num_apps)\n",
    "                      ])\n",
    "\n",
    "headers=[\"Category\", \"Total installs count\", \"% of installs\", \"Num apps\", \"Avg # of installs/app\", \"Opportunity\"]\n",
    "df = convert_to_pandas_dataframe(headers, table_list)\n",
    "\n",
    "show(df, paging=False, order=[[1, \"desc\"]], columnDefs=[{\"className\":\"dt-left\",  \"targets\": 0}])\n",
    "    \n",
    "print(\"\\nInstallations per Genre:\" )\n",
    "\n",
    "# get the total number of values to calculate percentages\n",
    "total = 0\n",
    "for value in sorted_total_number_installs_per_genre.values():\n",
    "    total = total + value\n",
    "\n",
    "table_list = []\n",
    "\n",
    "for entry in sorted_total_number_installs_per_genre.items():\n",
    "    percent_num_installs = float(entry[1])/total\n",
    "    num_apps = total_number_apps_per_genre[entry[0]]\n",
    "    avg_num_installs = int(entry[1]/num_apps)\n",
    "    avg_num_installs_per_num_apps = int(avg_num_installs/num_apps)\n",
    "    \n",
    "    table_list.append([entry[0], \n",
    "                       \"{:,}\".format(entry[1]), \n",
    "                       \"{:.1%}\".format(percent_num_installs),\n",
    "                       \"{:,}\".format(num_apps),\n",
    "                       \"{:,}\".format(avg_num_installs),\n",
    "                       \"{:,}\".format(avg_num_installs_per_num_apps)\n",
    "                      ])\n",
    "    \n",
    "headers=[\"Genre\", \"Total installs count\", \"% of installs\", \"Num apps\", \"Avg # of installs/app\", \"Opportunity\"]\n",
    "df = convert_to_pandas_dataframe(headers, table_list)\n",
    "\n",
    "show(df, paging=False, order=[[1, \"desc\"]], columnDefs=[{\"className\":\"dt-left\",  \"targets\": 0}])"
   ]
  },
  {
   "cell_type": "markdown",
   "id": "746c950e",
   "metadata": {},
   "source": [
    "Looking at the Genre names it looks as if each Genre might be a subset of a Category. Also, it looks as if some individual Genres mirror a Category in a one-to-one fashion."
   ]
  },
  {
   "cell_type": "code",
   "execution_count": 60,
   "id": "b2924905",
   "metadata": {},
   "outputs": [
    {
     "name": "stdout",
     "output_type": "stream",
     "text": [
      "18 pairs of nodes with a one to one connection: \n",
      "\n",
      "Category                            Genre\n",
      "____________________   __________________\n",
      "AUTO_AND_VEHICLES    :    Auto & Vehicles\n",
      "BEAUTY               :             Beauty\n",
      "BUSINESS             :           Business\n",
      "DATING               :             Dating\n",
      "EVENTS               :             Events\n",
      "FINANCE              :            Finance\n",
      "FOOD_AND_DRINK       :       Food & Drink\n",
      "HOUSE_AND_HOME       :       House & Home\n",
      "LIBRARIES_AND_DEMO   :   Libraries & Demo\n",
      "MAPS_AND_NAVIGATION  :  Maps & Navigation\n",
      "MEDICAL              :            Medical\n",
      "NEWS_AND_MAGAZINES   :   News & Magazines\n",
      "PERSONALIZATION      :    Personalization\n",
      "PHOTOGRAPHY          :        Photography\n",
      "PRODUCTIVITY         :       Productivity\n",
      "SHOPPING             :           Shopping\n",
      "SOCIAL               :             Social\n",
      "WEATHER              :            Weather\n"
     ]
    }
   ],
   "source": [
    "category_genre_dict = {}\n",
    "genre_category_dict = {}\n",
    "\n",
    "for row in free_cleaned_android_apps:\n",
    "    category = row[1]\n",
    "    \n",
    "    genre_values = row[9].split(';')  # can be multiple values delimited by the semicolon\n",
    "    genre_values.sort()\n",
    "        \n",
    "    for genre in genre_values:\n",
    "        if category not in category_genre_dict:\n",
    "            category_genre_dict[category] = {genre}\n",
    "        else:\n",
    "            category_genre_dict[category].add(genre)\n",
    "            \n",
    "        if genre not in genre_category_dict:\n",
    "            genre_category_dict[genre] = {category}\n",
    "        else:\n",
    "            genre_category_dict[genre].add(category)\n",
    "            \n",
    "# for key,value in category_genre_dict.items():\n",
    "#     print(key, \" : \", sorted(value))\n",
    "    \n",
    "# print('\\n')\n",
    "\n",
    "# genre_category_dict = {}\n",
    "\n",
    "# for row in free_cleaned_android_apps:\n",
    "#     category = row[1]\n",
    "    \n",
    "#     genre_values = row[9].split(';')  # can be multiple values delimited by the semicolon\n",
    "        \n",
    "#     for genre in genre_values:\n",
    "#         if genre not in genre_category_dict:\n",
    "#             genre_category_dict[genre] = {category}\n",
    "#         else:\n",
    "#             genre_category_dict[genre].add(category)\n",
    "            \n",
    "# for key,value in genre_category_dict.items():\n",
    "#     print(key, \" : \", sorted(value))\n",
    "\n",
    "sorted_category_genre_dict = dict(sorted(category_genre_dict.items(), key=lambda x: len(x[1]), reverse=True))\n",
    "sorted_genre_category_dict = dict(sorted(genre_category_dict.items(), key=lambda x: len(x[1]), reverse=True))\n",
    "    \n",
    "import json\n",
    "\n",
    "def convert_dicts_to_json_for_ipycytoscape(sorted_category_genre_dict, sorted_genre_category_dict):\n",
    "    \"\"\" Convert dict of the form {key : [value1, value2, ...]} to json appropriate for loading into ipycytoscape.\n",
    "    \"\"\"\n",
    "    intermediate_dict = {}\n",
    "    intermediate_dict['nodes'] = []\n",
    "    intermediate_dict['edges'] = []\n",
    "    \n",
    "    for key in sorted_category_genre_dict:\n",
    "        node = {}\n",
    "        node['data'] = {'id': key, 'name': key, 'classes': 'category'}\n",
    "        intermediate_dict['nodes'].append(node)\n",
    "        \n",
    "    for key in sorted_genre_category_dict:\n",
    "        node = {}\n",
    "        node['data'] = {'id': key, 'name': key, 'classes': 'genre'}\n",
    "        intermediate_dict['nodes'].append(node)\n",
    "        \n",
    "    for key, values in sorted_category_genre_dict.items():\n",
    "        for value in values:\n",
    "            source_target = {'source': key, 'target': value}\n",
    "            edge = {'data': source_target}\n",
    "            intermediate_dict['edges'].append(edge)\n",
    "            \n",
    "    for key, values in sorted_genre_category_dict.items():\n",
    "        for value in values:\n",
    "            source_target = {'source': key, 'target': value}\n",
    "            edge = {'data': source_target}\n",
    "            intermediate_dict['edges'].append(edge)\n",
    "            \n",
    "    return intermediate_dict\n",
    "\n",
    "\n",
    "def get_nodes_with_only_one_to_one_edges(all_edges):\n",
    "    \"\"\" Return edges with a source that only have one target and that target only as the original source as its\n",
    "    target. Ex. only one edge with source 'A' and only one edge with source 'a' where the target of 'A' is 'a' and the target of\n",
    "    'a' is 'A'.\n",
    "    \n",
    "    Keyword inputs:\n",
    "    - all_edges - a list of edges of the form (ex.) {'data': {'source': 'FAMILY', 'target': 'Trivia'}}\n",
    "    \"\"\"\n",
    "    edges_for_each_node = {}  # this is of the form (ex.) {'FAMILY': ['Trivia', 'Communication'], ...}\n",
    "    \n",
    "    for edge in all_edges:\n",
    "        current_edge = edge['data']\n",
    "    \n",
    "        if current_edge['source'] not in edges_for_each_node:\n",
    "            edges_for_each_node[current_edge['source']] = set([current_edge['target']])\n",
    "        else:\n",
    "            edges_for_each_node[current_edge['source']].add(current_edge['target'])\n",
    "            \n",
    "    one_to_one_nodes = set()\n",
    "    \n",
    "    for source, targets in edges_for_each_node.items():  \n",
    "        if len(targets) == 1:  # if there is only one target for the current source node\n",
    "            for current_target in targets:  # there should only be one target if we get this far (it's a set so have to iterate)\n",
    "                if current_target in edges_for_each_node:  # if the target node is also a source node\n",
    "                    targets_of_target = edges_for_each_node[current_target]  # use the target node as a source and get its target nodes\n",
    "                    if len(targets_of_target) == 1:  # if there is only one target of the target node when used as a source\n",
    "                        for current_target_of_target in targets_of_target:  # there should only be one target if we get this far \n",
    "                            if current_target_of_target == source:  # if that target is the same as the original source node\n",
    "                                one_to_one_nodes.add(current_target)\n",
    "                                one_to_one_nodes.add(source)\n",
    "                        \n",
    "    return one_to_one_nodes\n",
    "\n",
    "def remove_nodes(nodes_to_remove, original_dataset):\n",
    "    \"\"\" Remove nodes and their corresponding edges from a dataset, returning a deep copy of the dataset without the\n",
    "    removed nodes.\n",
    "    \n",
    "    Keyword inputs:\n",
    "    - nodes_to_remove - a list of nodes to be removed\n",
    "    - original_dataset - dictionary of the form\n",
    "        {'nodes': [{'data': {'id': 'FAMILY', 'name': 'FAMILY'...}}, ...],\n",
    "         'edges': [{'data': {'source': 'Board', 'target': 'FAMILY'}}, ...]}\n",
    "    \"\"\"\n",
    "    import copy\n",
    "    new_dataset = copy.deepcopy(original_dataset)\n",
    "    \n",
    "    for node in original_dataset['nodes']:\n",
    "        if node['data']['id'] in nodes_to_remove:\n",
    "            new_dataset['nodes'].remove(node)\n",
    "            \n",
    "    for edge in original_dataset['edges']:\n",
    "        if edge['data']['source'] in nodes_to_remove or edge['data']['target'] in nodes_to_remove:\n",
    "            new_dataset['edges'].remove(edge)\n",
    "            \n",
    "    return new_dataset        \n",
    "\n",
    "dict_data = convert_dicts_to_json_for_ipycytoscape(sorted_category_genre_dict, sorted_genre_category_dict)\n",
    "\n",
    "# print(\"Num nodes before: \", len(dict_data['nodes']))\n",
    "# print(\"Num edges before: \", len(dict_data['edges']))\n",
    "\n",
    "one_to_one_nodes = get_nodes_with_only_one_to_one_edges(dict_data['edges'])\n",
    "\n",
    "# print(\"Num nodes to remove:\", len(one_to_one_nodes))\n",
    "\n",
    "dict_data_without_one_to_ones = remove_nodes(one_to_one_nodes, dict_data)\n",
    "# print(\"dict_data\\n\", dict_data_without_one_to_ones)\n",
    "\n",
    "# print(\"Num nodes after: \", len(dict_data_without_one_to_ones['nodes']))\n",
    "# print(\"Num edges after: \", len(dict_data_without_one_to_ones['edges']))\n",
    "\n",
    "import re\n",
    "pattern = re.compile(\"[A-Z_]+\")\n",
    "key_function = lambda v: v.upper().replace(\"&\", \"AND\").replace(\" \", \"_\") if re.fullmatch(pattern, v) else v.upper().replace(\"&\", \"AND\").replace(\" \", \"_\") + \"1\"\n",
    "one_to_one_nodes_list = list(sorted(one_to_one_nodes, key=key_function))\n",
    "\n",
    "num_pairs = int(len(one_to_one_nodes_list)/2)\n",
    "print(\"{:d} pairs of nodes with a one to one connection: \\n\".format(num_pairs))\n",
    "print('{:20}   {:>18}'.format('Category', 'Genre'))\n",
    "print('{:_<20}   {:_>18}'.format('', ''))\n",
    "i = 0\n",
    "while i < len(one_to_one_nodes_list) - 1:\n",
    "    print('{:20} : {:>18}'.format(one_to_one_nodes_list[i], one_to_one_nodes_list[i + 1]))\n",
    "#     print(one_to_one_nodes_list[i] + \" : \" + one_to_one_nodes_list[i + 1])\n",
    "    i += 2"
   ]
  },
  {
   "cell_type": "code",
   "execution_count": 61,
   "id": "1a0b7cd1",
   "metadata": {
    "scrolled": false
   },
   "outputs": [
    {
     "name": "stdout",
     "output_type": "stream",
     "text": [
      "Requirement already satisfied: ipycytoscape in d:\\python\\python38\\lib\\site-packages (1.2.2)\n",
      "Requirement already satisfied: spectate>=1.0.0 in d:\\python\\python38\\lib\\site-packages (from ipycytoscape) (1.0.1)\n",
      "Requirement already satisfied: ipywidgets>=7.6.0 in d:\\python\\python38\\lib\\site-packages (from ipycytoscape) (7.6.3)\n",
      "Requirement already satisfied: networkx in d:\\python\\python38\\lib\\site-packages (from ipycytoscape) (2.5.1)\n",
      "Requirement already satisfied: ipython>=4.0.0 in d:\\python\\python38\\lib\\site-packages (from ipywidgets>=7.6.0->ipycytoscape) (7.18.1)\n",
      "Requirement already satisfied: ipykernel>=4.5.1 in d:\\python\\python38\\lib\\site-packages (from ipywidgets>=7.6.0->ipycytoscape) (5.5.5)\n",
      "Requirement already satisfied: widgetsnbextension~=3.5.0 in d:\\python\\python38\\lib\\site-packages (from ipywidgets>=7.6.0->ipycytoscape) (3.5.1)\n",
      "Requirement already satisfied: jupyterlab-widgets>=1.0.0 in d:\\python\\python38\\lib\\site-packages (from ipywidgets>=7.6.0->ipycytoscape) (1.0.0)\n",
      "Requirement already satisfied: nbformat>=4.2.0 in d:\\python\\python38\\lib\\site-packages (from ipywidgets>=7.6.0->ipycytoscape) (5.1.3)\n",
      "Requirement already satisfied: traitlets>=4.3.1 in d:\\python\\python38\\lib\\site-packages (from ipywidgets>=7.6.0->ipycytoscape) (5.0.2)\n",
      "Requirement already satisfied: jupyter-client in d:\\python\\python38\\lib\\site-packages (from ipykernel>=4.5.1->ipywidgets>=7.6.0->ipycytoscape) (6.1.12)\n",
      "Requirement already satisfied: tornado>=4.2 in d:\\python\\python38\\lib\\site-packages (from ipykernel>=4.5.1->ipywidgets>=7.6.0->ipycytoscape) (6.1)\n",
      "Requirement already satisfied: pickleshare in d:\\python\\python38\\lib\\site-packages (from ipython>=4.0.0->ipywidgets>=7.6.0->ipycytoscape) (0.7.5)\n",
      "Requirement already satisfied: prompt-toolkit!=3.0.0,!=3.0.1,<3.1.0,>=2.0.0 in d:\\python\\python38\\lib\\site-packages (from ipython>=4.0.0->ipywidgets>=7.6.0->ipycytoscape) (3.0.7)\n",
      "Requirement already satisfied: colorama in d:\\python\\python38\\lib\\site-packages (from ipython>=4.0.0->ipywidgets>=7.6.0->ipycytoscape) (0.4.3)\n",
      "Requirement already satisfied: backcall in d:\\python\\python38\\lib\\site-packages (from ipython>=4.0.0->ipywidgets>=7.6.0->ipycytoscape) (0.2.0)\n",
      "Requirement already satisfied: pygments in d:\\python\\python38\\lib\\site-packages (from ipython>=4.0.0->ipywidgets>=7.6.0->ipycytoscape) (2.6.1)\n",
      "Requirement already satisfied: setuptools>=18.5 in d:\\python\\python38\\lib\\site-packages (from ipython>=4.0.0->ipywidgets>=7.6.0->ipycytoscape) (47.1.0)\n",
      "Requirement already satisfied: decorator in d:\\python\\python38\\lib\\site-packages (from ipython>=4.0.0->ipywidgets>=7.6.0->ipycytoscape) (4.4.2)\n",
      "Requirement already satisfied: jedi>=0.10 in d:\\python\\python38\\lib\\site-packages (from ipython>=4.0.0->ipywidgets>=7.6.0->ipycytoscape) (0.17.2)\n",
      "Requirement already satisfied: parso<0.8.0,>=0.7.0 in d:\\python\\python38\\lib\\site-packages (from jedi>=0.10->ipython>=4.0.0->ipywidgets>=7.6.0->ipycytoscape) (0.7.1)\n",
      "Requirement already satisfied: jsonschema!=2.5.0,>=2.4 in d:\\python\\python38\\lib\\site-packages (from nbformat>=4.2.0->ipywidgets>=7.6.0->ipycytoscape) (3.2.0)\n",
      "Requirement already satisfied: ipython-genutils in d:\\python\\python38\\lib\\site-packages (from nbformat>=4.2.0->ipywidgets>=7.6.0->ipycytoscape) (0.2.0)\n",
      "Requirement already satisfied: jupyter-core in d:\\python\\python38\\lib\\site-packages (from nbformat>=4.2.0->ipywidgets>=7.6.0->ipycytoscape) (4.7.1)\n",
      "Requirement already satisfied: attrs>=17.4.0 in d:\\python\\python38\\lib\\site-packages (from jsonschema!=2.5.0,>=2.4->nbformat>=4.2.0->ipywidgets>=7.6.0->ipycytoscape) (21.2.0)\n",
      "Requirement already satisfied: six>=1.11.0 in d:\\python\\python38\\lib\\site-packages (from jsonschema!=2.5.0,>=2.4->nbformat>=4.2.0->ipywidgets>=7.6.0->ipycytoscape) (1.16.0)\n",
      "Requirement already satisfied: pyrsistent>=0.14.0 in d:\\python\\python38\\lib\\site-packages (from jsonschema!=2.5.0,>=2.4->nbformat>=4.2.0->ipywidgets>=7.6.0->ipycytoscape) (0.17.3)\n",
      "Requirement already satisfied: wcwidth in d:\\python\\python38\\lib\\site-packages (from prompt-toolkit!=3.0.0,!=3.0.1,<3.1.0,>=2.0.0->ipython>=4.0.0->ipywidgets>=7.6.0->ipycytoscape) (0.2.5)\n",
      "Requirement already satisfied: notebook>=4.4.1 in d:\\python\\python38\\lib\\site-packages (from widgetsnbextension~=3.5.0->ipywidgets>=7.6.0->ipycytoscape) (6.4.0)\n",
      "Requirement already satisfied: terminado>=0.8.3 in d:\\python\\python38\\lib\\site-packages (from notebook>=4.4.1->widgetsnbextension~=3.5.0->ipywidgets>=7.6.0->ipycytoscape) (0.10.0)\n",
      "Requirement already satisfied: nbconvert in d:\\python\\python38\\lib\\site-packages (from notebook>=4.4.1->widgetsnbextension~=3.5.0->ipywidgets>=7.6.0->ipycytoscape) (6.0.7)\n",
      "Requirement already satisfied: pyzmq>=17 in d:\\python\\python38\\lib\\site-packages (from notebook>=4.4.1->widgetsnbextension~=3.5.0->ipywidgets>=7.6.0->ipycytoscape) (22.1.0)\n",
      "Requirement already satisfied: jinja2 in c:\\users\\brian\\appdata\\roaming\\python\\python38\\site-packages (from notebook>=4.4.1->widgetsnbextension~=3.5.0->ipywidgets>=7.6.0->ipycytoscape) (3.0.1)\n",
      "Requirement already satisfied: argon2-cffi in d:\\python\\python38\\lib\\site-packages (from notebook>=4.4.1->widgetsnbextension~=3.5.0->ipywidgets>=7.6.0->ipycytoscape) (20.1.0)\n",
      "Requirement already satisfied: Send2Trash>=1.5.0 in d:\\python\\python38\\lib\\site-packages (from notebook>=4.4.1->widgetsnbextension~=3.5.0->ipywidgets>=7.6.0->ipycytoscape) (1.5.0)\n",
      "Requirement already satisfied: prometheus-client in d:\\python\\python38\\lib\\site-packages (from notebook>=4.4.1->widgetsnbextension~=3.5.0->ipywidgets>=7.6.0->ipycytoscape) (0.11.0)\n",
      "Requirement already satisfied: python-dateutil>=2.1 in d:\\python\\python38\\lib\\site-packages (from jupyter-client->ipykernel>=4.5.1->ipywidgets>=7.6.0->ipycytoscape) (2.8.1)\n",
      "Requirement already satisfied: pywin32>=1.0 in d:\\python\\python38\\lib\\site-packages (from jupyter-core->nbformat>=4.2.0->ipywidgets>=7.6.0->ipycytoscape) (301)\n",
      "Requirement already satisfied: pywinpty>=1.1.0 in d:\\python\\python38\\lib\\site-packages (from terminado>=0.8.3->notebook>=4.4.1->widgetsnbextension~=3.5.0->ipywidgets>=7.6.0->ipycytoscape) (1.1.1)\n",
      "Requirement already satisfied: cffi>=1.0.0 in d:\\python\\python38\\lib\\site-packages (from argon2-cffi->notebook>=4.4.1->widgetsnbextension~=3.5.0->ipywidgets>=7.6.0->ipycytoscape) (1.14.5)\n",
      "Requirement already satisfied: pycparser in d:\\python\\python38\\lib\\site-packages (from cffi>=1.0.0->argon2-cffi->notebook>=4.4.1->widgetsnbextension~=3.5.0->ipywidgets>=7.6.0->ipycytoscape) (2.20)\n",
      "Requirement already satisfied: MarkupSafe>=2.0 in c:\\users\\brian\\appdata\\roaming\\python\\python38\\site-packages (from jinja2->notebook>=4.4.1->widgetsnbextension~=3.5.0->ipywidgets>=7.6.0->ipycytoscape) (2.0.1)\n",
      "Requirement already satisfied: pandocfilters>=1.4.1 in d:\\python\\python38\\lib\\site-packages (from nbconvert->notebook>=4.4.1->widgetsnbextension~=3.5.0->ipywidgets>=7.6.0->ipycytoscape) (1.4.3)\n",
      "Requirement already satisfied: jupyterlab-pygments in d:\\python\\python38\\lib\\site-packages (from nbconvert->notebook>=4.4.1->widgetsnbextension~=3.5.0->ipywidgets>=7.6.0->ipycytoscape) (0.1.2)\n",
      "Requirement already satisfied: testpath in d:\\python\\python38\\lib\\site-packages (from nbconvert->notebook>=4.4.1->widgetsnbextension~=3.5.0->ipywidgets>=7.6.0->ipycytoscape) (0.5.0)\n",
      "Requirement already satisfied: nbclient<0.6.0,>=0.5.0 in d:\\python\\python38\\lib\\site-packages (from nbconvert->notebook>=4.4.1->widgetsnbextension~=3.5.0->ipywidgets>=7.6.0->ipycytoscape) (0.5.3)\n",
      "Requirement already satisfied: defusedxml in d:\\python\\python38\\lib\\site-packages (from nbconvert->notebook>=4.4.1->widgetsnbextension~=3.5.0->ipywidgets>=7.6.0->ipycytoscape) (0.7.1)\n",
      "Requirement already satisfied: mistune<2,>=0.8.1 in d:\\python\\python38\\lib\\site-packages (from nbconvert->notebook>=4.4.1->widgetsnbextension~=3.5.0->ipywidgets>=7.6.0->ipycytoscape) (0.8.4)\n",
      "Requirement already satisfied: bleach in d:\\python\\python38\\lib\\site-packages (from nbconvert->notebook>=4.4.1->widgetsnbextension~=3.5.0->ipywidgets>=7.6.0->ipycytoscape) (3.3.0)\n",
      "Requirement already satisfied: entrypoints>=0.2.2 in d:\\python\\python38\\lib\\site-packages (from nbconvert->notebook>=4.4.1->widgetsnbextension~=3.5.0->ipywidgets>=7.6.0->ipycytoscape) (0.3)\n",
      "Requirement already satisfied: nest-asyncio in d:\\python\\python38\\lib\\site-packages (from nbclient<0.6.0,>=0.5.0->nbconvert->notebook>=4.4.1->widgetsnbextension~=3.5.0->ipywidgets>=7.6.0->ipycytoscape) (1.5.1)\n",
      "Requirement already satisfied: async-generator in d:\\python\\python38\\lib\\site-packages (from nbclient<0.6.0,>=0.5.0->nbconvert->notebook>=4.4.1->widgetsnbextension~=3.5.0->ipywidgets>=7.6.0->ipycytoscape) (1.10)\n",
      "Requirement already satisfied: webencodings in d:\\python\\python38\\lib\\site-packages (from bleach->nbconvert->notebook>=4.4.1->widgetsnbextension~=3.5.0->ipywidgets>=7.6.0->ipycytoscape) (0.5.1)\n",
      "Requirement already satisfied: packaging in d:\\python\\python38\\lib\\site-packages (from bleach->nbconvert->notebook>=4.4.1->widgetsnbextension~=3.5.0->ipywidgets>=7.6.0->ipycytoscape) (20.9)\n",
      "Requirement already satisfied: pyparsing>=2.0.2 in d:\\python\\python38\\lib\\site-packages (from packaging->bleach->nbconvert->notebook>=4.4.1->widgetsnbextension~=3.5.0->ipywidgets>=7.6.0->ipycytoscape) (2.4.7)\n",
      "Note: you may need to restart the kernel to use updated packages.\n"
     ]
    }
   ],
   "source": [
    "%pip install ipycytoscape;"
   ]
  },
  {
   "cell_type": "code",
   "execution_count": 62,
   "id": "6f8f13d8",
   "metadata": {},
   "outputs": [],
   "source": [
    "import ipycytoscape\n",
    "\n",
    "cytoscapeobj = ipycytoscape.CytoscapeWidget()\n",
    "cytoscapeobj.graph.add_graph_from_json(dict_data_without_one_to_ones)\n",
    "cytoscapeobj.set_layout(name='klay', nodeDimensionsIncludeLabels=True)\n",
    "cytoscapeobj.set_style([{\n",
    "                        'selector': 'node',\n",
    "                        'css': {\n",
    "                            'content': 'data(name)',\n",
    "                            'text-valign': 'center',\n",
    "                            'color': 'white',\n",
    "                            'text-outline-width': 2,                            \n",
    "                        }\n",
    "                        },\n",
    "                        {\n",
    "                        'selector': 'node[classes=\"genre\"]',\n",
    "                        'css': {\n",
    "                            'text-outline-color': '#c66b3d',\n",
    "                            'background-color': '#c66b3d'\n",
    "                        }\n",
    "                        },\n",
    "                        {\n",
    "                        'selector': 'node[classes=\"category\"]',\n",
    "                        'css': {\n",
    "                            'background-color': '#26495c',\n",
    "                            'text-outline-color': '#26495c'\n",
    "                        }\n",
    "                        },\n",
    "#                         {\n",
    "#                         'selector': 'node:parent',\n",
    "#                         'css': {\n",
    "#                             'background-opacity': 0.333\n",
    "#                             }\n",
    "#                         },\n",
    "                        {\n",
    "                            'selector': 'edge',\n",
    "                            'style': {\n",
    "                                'width': 4,\n",
    "                                'line-color': '#c4b491',\n",
    "                                #'target-arrow-shape': 'triangle',\n",
    "                                #'target-arrow-color': '#9dbaea',\n",
    "                                'curve-style': 'bezier'\n",
    "                            }\n",
    "                        }])    "
   ]
  },
  {
   "cell_type": "markdown",
   "id": "dae54800",
   "metadata": {},
   "source": [
    "Below is the relationship between the Category data (blue nodes) and the Genre data (orange nodes) that are not related in a one-to-one fashion as are the nodes in the table above. Note that the Genre data is more fine-grained than the Category data. Note the overlap between the Genre nodes related to the Category 'FAMILY' and the Category 'GAME'. Note also the the Genre nodes that are related to 'FAMILY' and 'GAME' are also related to many of the other Category nodes.\n",
    "\n",
    "Most important in terms of this analysis, there are no Genre nodes that are not related to a Category node so it seems reasonable to ignore Category and use Genre. Given the greater number of nodes in Genre it is a more fine-grained categorization of the data."
   ]
  },
  {
   "cell_type": "code",
   "execution_count": 63,
   "id": "85e8d85b",
   "metadata": {},
   "outputs": [
    {
     "data": {
      "application/vnd.jupyter.widget-view+json": {
       "model_id": "fd87a7b8e90f4796ad857fad72fe9ac7",
       "version_major": 2,
       "version_minor": 0
      },
      "text/plain": [
       "CytoscapeWidget(cytoscape_layout={'name': 'klay', 'nodeDimensionsIncludeLabels': True}, cytoscape_style=[{'sel…"
      ]
     },
     "metadata": {},
     "output_type": "display_data"
    }
   ],
   "source": [
    "cytoscapeobj"
   ]
  },
  {
   "cell_type": "markdown",
   "id": "77631362",
   "metadata": {},
   "source": [
    "#### Discussion of Google Play data ####\n",
    "Since the Genre data is more fine-grained I will concentrate on it. \n",
    "\n",
    "Here are the top 5 apps in average number of installs:\n",
    "\n",
    "| Genre                   | Avg # installs/app |\n",
    "|-------------------------|--------------------|\n",
    "| Communication           | 38.3 million       |\n",
    "| Video Players & Editors | 24.6 million       |\n",
    "| Social                  | 23.2 million       |\n",
    "| Arcade                  | 21.5 million       |\n",
    "| Photography             | 17.8 million       |\n",
    "\n",
    "And the top 5 apps (with at least 20 apps in its Genre) in 'Opportunity':\n",
    "\n",
    "| Genre                   | Opportunity |\n",
    "|-------------------------|-------------|\n",
    "| Music                   | 450,301     |\n",
    "| Word                    | 395,411     |\n",
    "| Music & Video           | 160,677     |\n",
    "| Video Players & Editors | 153,778     |\n",
    "| Racing                  | 141,770     |\n",
    "\n",
    "Note that only *Video Players & Editors* is in the top 5 in both average number of installs and 'Opportunity'."
   ]
  },
  {
   "cell_type": "markdown",
   "id": "26d2db16",
   "metadata": {},
   "source": [
    "### Apple App Store data ###\n",
    "Unfortunately, given the available data, there is no direct way to figure out the frequency of users for each genre. The total number of ratings for each app is available, however, and that can be used as a close proxy for the actual number of users. A field called `rating_count_tot` is in the 7th column. Calculate the total number of ratings for each genre.\n",
    "\n",
    "Note that the number of ratings in a genre may be indicative more of the number of apps in a genre rather than how much each app in that category tends to be installed or used. To get an idea of how much each app in a category tends to be installed or used, assuming that rating count for each app is indicative of how much that app is used, the data is 'normalized' to show the average number of ratings for an app in each genre."
   ]
  },
  {
   "cell_type": "code",
   "execution_count": 64,
   "id": "d2cf123e",
   "metadata": {},
   "outputs": [
    {
     "name": "stdout",
     "output_type": "stream",
     "text": [
      "\n",
      "Total number of ratings and apps per genre and average number of ratings per app:\n"
     ]
    },
    {
     "data": {
      "text/html": [
       "<div><table id=\"63382707-2430-442f-ad58-7a37647b196e\" class=\"compact\"><thead>\n",
       "    <tr style=\"text-align: right;\">\n",
       "      \n",
       "      <th>prime_genre</th>\n",
       "      <th>Total rating count</th>\n",
       "      <th>% of ratings</th>\n",
       "      <th>Num apps</th>\n",
       "      <th>Avg # of ratings/app</th>\n",
       "      <th>Opportunity</th>\n",
       "    </tr>\n",
       "  </thead></table>\n",
       "<script type=\"text/javascript\">\n",
       "require([\"datatables\"], function (datatables) {\n",
       "    $(document).ready(function () {\n",
       "        var dt_args = {\"paging\": false, \"order\": [[1, \"desc\"]], \"columnDefs\": [{\"className\": \"dt-left\", \"targets\": 0}], \"data\": [[\"Games\", \"42,705,967\", \"53.4%\", \"1,874\", \"13,254\", \"7\"], [\"Social Networking\", \"7,584,125\", \"9.5%\", \"106\", \"2,353\", \"22\"], [\"Photo & Video\", \"4,550,647\", \"5.7%\", \"160\", \"1,412\", \"8\"], [\"Music\", \"3,783,551\", \"4.7%\", \"66\", \"1,174\", \"17\"], [\"Entertainment\", \"3,563,577\", \"4.5%\", \"254\", \"1,106\", \"4\"], [\"Shopping\", \"2,261,254\", \"2.8%\", \"84\", \"701\", \"8\"], [\"Sports\", \"1,587,614\", \"2.0%\", \"69\", \"492\", \"7\"], [\"Health & Fitness\", \"1,514,371\", \"1.9%\", \"65\", \"470\", \"7\"], [\"Utilities\", \"1,513,441\", \"1.9%\", \"81\", \"469\", \"5\"], [\"Weather\", \"1,463,837\", \"1.8%\", \"28\", \"454\", \"16\"], [\"Reference\", \"1,348,958\", \"1.7%\", \"18\", \"418\", \"23\"], [\"Productivity\", \"1,177,591\", \"1.5%\", \"56\", \"365\", \"6\"], [\"Finance\", \"1,132,846\", \"1.4%\", \"36\", \"351\", \"9\"], [\"Travel\", \"1,129,752\", \"1.4%\", \"40\", \"350\", \"8\"], [\"News\", \"913,665\", \"1.1%\", \"43\", \"283\", \"6\"], [\"Food & Drink\", \"866,682\", \"1.1%\", \"26\", \"268\", \"10\"], [\"Lifestyle\", \"840,774\", \"1.1%\", \"51\", \"260\", \"5\"], [\"Education\", \"826,470\", \"1.0%\", \"118\", \"256\", \"2\"], [\"Book\", \"556,619\", \"0.7%\", \"14\", \"172\", \"12\"], [\"Navigation\", \"516,542\", \"0.6%\", \"6\", \"160\", \"26\"], [\"Business\", \"127,349\", \"0.2%\", \"17\", \"39\", \"2\"], [\"Catalogs\", \"16,016\", \"0.0%\", \"4\", \"4\", \"1\"], [\"Medical\", \"3,672\", \"0.0%\", \"6\", \"1\", \"0\"]]};\n",
       "        dt_args = eval_functions(dt_args);\n",
       "        table = $('#63382707-2430-442f-ad58-7a37647b196e').DataTable(dt_args);\n",
       "    });\n",
       "})\n",
       "</script>\n",
       "</div>\n"
      ],
      "text/plain": [
       "<IPython.core.display.HTML object>"
      ]
     },
     "metadata": {},
     "output_type": "display_data"
    }
   ],
   "source": [
    "# Calculate the total number of ratings and apps for each genre.\n",
    "total_number_ratings_per_genre = {}\n",
    "total_number_apps_per_genre = {}\n",
    "\n",
    "for row in free_cleaned_apple_apps:\n",
    "    genre = row[12]\n",
    "    rating_count = int(row[6])\n",
    "    \n",
    "    total_number_ratings_per_genre[genre] = total_number_ratings_per_genre.get(genre, 0) + rating_count\n",
    "    total_number_apps_per_genre[genre] = total_number_apps_per_genre.get(genre, 0) + 1\n",
    "\n",
    "sorted_total_number_ratings_per_genre = {k: v for k, \n",
    "                                         v in sorted(total_number_ratings_per_genre.items(), \n",
    "                                         key=lambda item: item[1], reverse=True)}\n",
    "\n",
    "# sorted_total_number_apps_per_genre = {k: v for k, \n",
    "#                                       v in sorted(total_number_apps_per_genre.items(), \n",
    "#                                       key=lambda item: item[1], reverse=True)}\n",
    "\n",
    "print(\"\\nTotal number of ratings and apps per genre and average number of ratings per app:\" )\n",
    "\n",
    "# get the total number of values to calculate percentages\n",
    "total_num_ratings = 0\n",
    "for value in sorted_total_number_ratings_per_genre.values():\n",
    "    total_num_ratings = total_num_ratings + value\n",
    "\n",
    "table_list = []\n",
    "\n",
    "for entry in sorted_total_number_ratings_per_genre.items():\n",
    "    percent_num_ratings = float(entry[1])/total_num_ratings\n",
    "    num_apps = total_number_apps_per_genre[entry[0]]\n",
    "    average_num_ratings = int(entry[1]/len(free_cleaned_apple_apps))\n",
    "    average_num_ratings_per_num_apps = int(average_num_ratings/num_apps)\n",
    "    \n",
    "    table_list.append([entry[0], \n",
    "                       \"{:,}\".format(entry[1]), \n",
    "                       \"{:.1%}\".format(percent_num_ratings), \n",
    "                       \"{:,}\".format(num_apps),\n",
    "                       \"{:,}\".format(average_num_ratings),\n",
    "                       \"{:,}\".format(average_num_ratings_per_num_apps)\n",
    "                      ])\n",
    "    \n",
    "    # print(\"{} : {:,} ({:.1%}), {:,} ({:.1%})\".format(entry[0], entry[1], percent_num_ratings, num_apps, percent_num_apps))\n",
    "    \n",
    "headers=[\"prime_genre\", \"Total rating count\", \"% of ratings\", \"Num apps\", \"Avg # of ratings/app\", \"Opportunity\"]\n",
    "df = convert_to_pandas_dataframe(headers, table_list)\n",
    "\n",
    "show(df, paging=False, order=[[1, \"desc\"]], columnDefs=[{\"className\":\"dt-left\",  \"targets\": 0}])"
   ]
  },
  {
   "cell_type": "markdown",
   "id": "31df5088",
   "metadata": {},
   "source": [
    "#### Discussion of Apple App Store data ####\n",
    "\n",
    "The top 5 in average number of ratings:\n",
    "\n",
    "| Genre             | Avg # ratings/app |\n",
    "|-------------------|-------------------|\n",
    "| Games             | 13,254            |\n",
    "| Social Networking | 2353              |\n",
    "| Photo & Video     | 1412              |\n",
    "| Music             | 1174              |\n",
    "| Entertainment     | 1106              |\n",
    "\n",
    "Note that the *Games* Genre dominates the average rating count with over 50% of the total rating count. Also note that the top 5 Genre categories are all entertainment-purposed apps with almost 78% of the total rating count.\n",
    "\n",
    "The top 5 in 'Opportunity' with at least 10 apps in the Genre:\n",
    "\n",
    "| Genre             | Opportunity |\n",
    "|-------------------|-------------|\n",
    "| Reference         | 23          |\n",
    "| Social Networking | 22          |\n",
    "| Music             | 17          |\n",
    "| Weather           | 16          |\n",
    "| Book              | 12          |\n",
    "\n",
    "Note that the 'Opportunity' for the *Games* Genre, at 7, is relatively low.\n",
    "\n",
    "Note that *Social Networking* and *Music* are in the top 5 both in both average number of installs and 'Opportunity'"
   ]
  },
  {
   "cell_type": "markdown",
   "id": "d41af317",
   "metadata": {},
   "source": [
    "### Comparison of Google Play and Apple App Store data ###\n",
    "*Video Players & Editors* is the stand-out genre in the Google Play data - the seemingly closest corresponding genre in the Apple App Store data, *Photo & Video*, has the third highest average number of ratings, but its Opportunity score, at 8, is rather middling.\n",
    "\n",
    "Since there are fewer genres in the Apple App Store data than in the Google Play store data it may be useful to take a look at the top Apple App Store genres and see how the corresponding Google Play store genres place in the Google Play store data.\n",
    "\n",
    "#### Apple App Store genres ####\n",
    "##### *Reference* #####\n",
    "The *Reference* genre has the highest 'Opportunity' score in the Apple App Store data. Unfortunately, the corresponding Google Play store genre *Books & Reference* has a middling Opportunity score and is not among the top ten genres with average number of installs.\n",
    "\n",
    "##### *Social Networking* #####\n",
    "The *Social Networking* genre has the second highest 'Opportunity' score in the Apple App Store data and the second highest number of users. Unfortunately, the corresponding Google Play store genre *Social*, while having the third highest average number of installs, has a middling Opportunity score.\n",
    "\n",
    "##### *Music* #####\n",
    "The *Music* genre has the third highest 'Opportunity' score in the Apple App Store data and the second highest average number of users. There are three different potential corresponding genres in the Google Play data - *Music & Audio*, *Music*, and *Music & Video*. These three genres all have very high opportunity scores. *Music & Audio* has the highest Opportunity score at 500,000 but was not included in the discussion about the Google Play data since there is only one app in that genre. *Music* has the second highest Opportunity score (450,301) and *Music & Video* has the forth highest Opportunity score (160,677)."
   ]
  },
  {
   "cell_type": "markdown",
   "id": "7832f404",
   "metadata": {},
   "source": [
    "## Discussion of recommendations ##\n",
    "Music-related genres are recommended mainly because there seems to be a lot of opportunity in these genres since there are relatively few apps in these genres but the average number of users per app in these genres, while not always very high, is reasonably high. While there are genres with a much higher average number of users per app their Opportunity score is low because there are many apps in the genre and there is too much risk that a new app in one of those genre would go unnoticed."
   ]
  },
  {
   "cell_type": "code",
   "execution_count": null,
   "id": "9493b977",
   "metadata": {},
   "outputs": [],
   "source": []
  }
 ],
 "metadata": {
  "kernelspec": {
   "display_name": "Python 3",
   "language": "python",
   "name": "python3"
  },
  "language_info": {
   "codemirror_mode": {
    "name": "ipython",
    "version": 3
   },
   "file_extension": ".py",
   "mimetype": "text/x-python",
   "name": "python",
   "nbconvert_exporter": "python",
   "pygments_lexer": "ipython3",
   "version": "3.8.5"
  }
 },
 "nbformat": 4,
 "nbformat_minor": 5
}
